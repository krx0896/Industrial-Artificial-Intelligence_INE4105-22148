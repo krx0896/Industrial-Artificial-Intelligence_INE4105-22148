{
  "cells": [
    {
      "cell_type": "markdown",
      "source": [
        "\n",
        "\n",
        "---\n",
        "\n",
        "\n",
        "\n",
        "* 원본 코드: [Basic regression: Predict fuel efficiency](https://www.tensorflow.org/tutorials/keras/regression)\n",
        "* 수정자: 한양대ERICA, 산업경영공학과, 오요셉(yosepoh@hanyang.ac.kr)\n",
        "* 마지막 수정일: 2023.04.01\n",
        "\n",
        "\n",
        "---\n",
        "\n"
      ],
      "metadata": {
        "id": "BlkVQ5QX0rVG"
      }
    },
    {
      "cell_type": "markdown",
      "metadata": {
        "id": "EIdT9iu_Z4Rb"
      },
      "source": [
        "# (1) Preliminaries"
      ]
    },
    {
      "cell_type": "code",
      "execution_count": null,
      "metadata": {
        "id": "moB4tpEHxKB3"
      },
      "outputs": [],
      "source": [
        "# 데이터 시각화 패키지 Seaborn 설치\n",
        "# -q는 리눅스 명령어로 설치 과정을 안보여줌\n",
        "!pip install -q seaborn  "
      ]
    },
    {
      "cell_type": "code",
      "execution_count": null,
      "metadata": {
        "id": "1rRo8oNqZ-Rj",
        "colab": {
          "base_uri": "https://localhost:8080/"
        },
        "outputId": "f1edf61c-e0ff-4da2-a65e-288f30883566"
      },
      "outputs": [
        {
          "output_type": "stream",
          "name": "stdout",
          "text": [
            "2.12.0\n"
          ]
        }
      ],
      "source": [
        "# 데이터 전처리 패키지\n",
        "import numpy as np\n",
        "import pandas as pd\n",
        "\n",
        "# 데이터 시각화 패키지\n",
        "import matplotlib.pyplot as plt \n",
        "import seaborn as sns \n",
        "\n",
        "# 머신러닝 패키지\n",
        "import tensorflow as tf \n",
        "from keras import layers \n",
        "\n",
        "print(tf.__version__)"
      ]
    },
    {
      "cell_type": "markdown",
      "metadata": {
        "id": "F_72b0LCNbjx"
      },
      "source": [
        "# (2) Load the dataset "
      ]
    },
    {
      "cell_type": "code",
      "execution_count": null,
      "metadata": {
        "id": "CiX2FI4gZtTt",
        "colab": {
          "base_uri": "https://localhost:8080/",
          "height": 206
        },
        "outputId": "fd7d6f3d-d1e5-4375-d350-4cc99ff9d1da"
      },
      "outputs": [
        {
          "output_type": "execute_result",
          "data": {
            "text/plain": [
              "      MPG  Cylinders  Displacement  Horsepower  Weight  Acceleration  \\\n",
              "393  27.0          4         140.0        86.0  2790.0          15.6   \n",
              "394  44.0          4          97.0        52.0  2130.0          24.6   \n",
              "395  32.0          4         135.0        84.0  2295.0          11.6   \n",
              "396  28.0          4         120.0        79.0  2625.0          18.6   \n",
              "397  31.0          4         119.0        82.0  2720.0          19.4   \n",
              "\n",
              "     Model Year  Europe  Japan  USA  \n",
              "393          82       0      0    1  \n",
              "394          82       1      0    0  \n",
              "395          82       0      0    1  \n",
              "396          82       0      0    1  \n",
              "397          82       0      0    1  "
            ],
            "text/html": [
              "\n",
              "  <div id=\"df-3959aed4-d0d3-4341-a224-0510d1d3251b\">\n",
              "    <div class=\"colab-df-container\">\n",
              "      <div>\n",
              "<style scoped>\n",
              "    .dataframe tbody tr th:only-of-type {\n",
              "        vertical-align: middle;\n",
              "    }\n",
              "\n",
              "    .dataframe tbody tr th {\n",
              "        vertical-align: top;\n",
              "    }\n",
              "\n",
              "    .dataframe thead th {\n",
              "        text-align: right;\n",
              "    }\n",
              "</style>\n",
              "<table border=\"1\" class=\"dataframe\">\n",
              "  <thead>\n",
              "    <tr style=\"text-align: right;\">\n",
              "      <th></th>\n",
              "      <th>MPG</th>\n",
              "      <th>Cylinders</th>\n",
              "      <th>Displacement</th>\n",
              "      <th>Horsepower</th>\n",
              "      <th>Weight</th>\n",
              "      <th>Acceleration</th>\n",
              "      <th>Model Year</th>\n",
              "      <th>Europe</th>\n",
              "      <th>Japan</th>\n",
              "      <th>USA</th>\n",
              "    </tr>\n",
              "  </thead>\n",
              "  <tbody>\n",
              "    <tr>\n",
              "      <th>393</th>\n",
              "      <td>27.0</td>\n",
              "      <td>4</td>\n",
              "      <td>140.0</td>\n",
              "      <td>86.0</td>\n",
              "      <td>2790.0</td>\n",
              "      <td>15.6</td>\n",
              "      <td>82</td>\n",
              "      <td>0</td>\n",
              "      <td>0</td>\n",
              "      <td>1</td>\n",
              "    </tr>\n",
              "    <tr>\n",
              "      <th>394</th>\n",
              "      <td>44.0</td>\n",
              "      <td>4</td>\n",
              "      <td>97.0</td>\n",
              "      <td>52.0</td>\n",
              "      <td>2130.0</td>\n",
              "      <td>24.6</td>\n",
              "      <td>82</td>\n",
              "      <td>1</td>\n",
              "      <td>0</td>\n",
              "      <td>0</td>\n",
              "    </tr>\n",
              "    <tr>\n",
              "      <th>395</th>\n",
              "      <td>32.0</td>\n",
              "      <td>4</td>\n",
              "      <td>135.0</td>\n",
              "      <td>84.0</td>\n",
              "      <td>2295.0</td>\n",
              "      <td>11.6</td>\n",
              "      <td>82</td>\n",
              "      <td>0</td>\n",
              "      <td>0</td>\n",
              "      <td>1</td>\n",
              "    </tr>\n",
              "    <tr>\n",
              "      <th>396</th>\n",
              "      <td>28.0</td>\n",
              "      <td>4</td>\n",
              "      <td>120.0</td>\n",
              "      <td>79.0</td>\n",
              "      <td>2625.0</td>\n",
              "      <td>18.6</td>\n",
              "      <td>82</td>\n",
              "      <td>0</td>\n",
              "      <td>0</td>\n",
              "      <td>1</td>\n",
              "    </tr>\n",
              "    <tr>\n",
              "      <th>397</th>\n",
              "      <td>31.0</td>\n",
              "      <td>4</td>\n",
              "      <td>119.0</td>\n",
              "      <td>82.0</td>\n",
              "      <td>2720.0</td>\n",
              "      <td>19.4</td>\n",
              "      <td>82</td>\n",
              "      <td>0</td>\n",
              "      <td>0</td>\n",
              "      <td>1</td>\n",
              "    </tr>\n",
              "  </tbody>\n",
              "</table>\n",
              "</div>\n",
              "      <button class=\"colab-df-convert\" onclick=\"convertToInteractive('df-3959aed4-d0d3-4341-a224-0510d1d3251b')\"\n",
              "              title=\"Convert this dataframe to an interactive table.\"\n",
              "              style=\"display:none;\">\n",
              "        \n",
              "  <svg xmlns=\"http://www.w3.org/2000/svg\" height=\"24px\"viewBox=\"0 0 24 24\"\n",
              "       width=\"24px\">\n",
              "    <path d=\"M0 0h24v24H0V0z\" fill=\"none\"/>\n",
              "    <path d=\"M18.56 5.44l.94 2.06.94-2.06 2.06-.94-2.06-.94-.94-2.06-.94 2.06-2.06.94zm-11 1L8.5 8.5l.94-2.06 2.06-.94-2.06-.94L8.5 2.5l-.94 2.06-2.06.94zm10 10l.94 2.06.94-2.06 2.06-.94-2.06-.94-.94-2.06-.94 2.06-2.06.94z\"/><path d=\"M17.41 7.96l-1.37-1.37c-.4-.4-.92-.59-1.43-.59-.52 0-1.04.2-1.43.59L10.3 9.45l-7.72 7.72c-.78.78-.78 2.05 0 2.83L4 21.41c.39.39.9.59 1.41.59.51 0 1.02-.2 1.41-.59l7.78-7.78 2.81-2.81c.8-.78.8-2.07 0-2.86zM5.41 20L4 18.59l7.72-7.72 1.47 1.35L5.41 20z\"/>\n",
              "  </svg>\n",
              "      </button>\n",
              "      \n",
              "  <style>\n",
              "    .colab-df-container {\n",
              "      display:flex;\n",
              "      flex-wrap:wrap;\n",
              "      gap: 12px;\n",
              "    }\n",
              "\n",
              "    .colab-df-convert {\n",
              "      background-color: #E8F0FE;\n",
              "      border: none;\n",
              "      border-radius: 50%;\n",
              "      cursor: pointer;\n",
              "      display: none;\n",
              "      fill: #1967D2;\n",
              "      height: 32px;\n",
              "      padding: 0 0 0 0;\n",
              "      width: 32px;\n",
              "    }\n",
              "\n",
              "    .colab-df-convert:hover {\n",
              "      background-color: #E2EBFA;\n",
              "      box-shadow: 0px 1px 2px rgba(60, 64, 67, 0.3), 0px 1px 3px 1px rgba(60, 64, 67, 0.15);\n",
              "      fill: #174EA6;\n",
              "    }\n",
              "\n",
              "    [theme=dark] .colab-df-convert {\n",
              "      background-color: #3B4455;\n",
              "      fill: #D2E3FC;\n",
              "    }\n",
              "\n",
              "    [theme=dark] .colab-df-convert:hover {\n",
              "      background-color: #434B5C;\n",
              "      box-shadow: 0px 1px 3px 1px rgba(0, 0, 0, 0.15);\n",
              "      filter: drop-shadow(0px 1px 2px rgba(0, 0, 0, 0.3));\n",
              "      fill: #FFFFFF;\n",
              "    }\n",
              "  </style>\n",
              "\n",
              "      <script>\n",
              "        const buttonEl =\n",
              "          document.querySelector('#df-3959aed4-d0d3-4341-a224-0510d1d3251b button.colab-df-convert');\n",
              "        buttonEl.style.display =\n",
              "          google.colab.kernel.accessAllowed ? 'block' : 'none';\n",
              "\n",
              "        async function convertToInteractive(key) {\n",
              "          const element = document.querySelector('#df-3959aed4-d0d3-4341-a224-0510d1d3251b');\n",
              "          const dataTable =\n",
              "            await google.colab.kernel.invokeFunction('convertToInteractive',\n",
              "                                                     [key], {});\n",
              "          if (!dataTable) return;\n",
              "\n",
              "          const docLinkHtml = 'Like what you see? Visit the ' +\n",
              "            '<a target=\"_blank\" href=https://colab.research.google.com/notebooks/data_table.ipynb>data table notebook</a>'\n",
              "            + ' to learn more about interactive tables.';\n",
              "          element.innerHTML = '';\n",
              "          dataTable['output_type'] = 'display_data';\n",
              "          await google.colab.output.renderOutput(dataTable, element);\n",
              "          const docLink = document.createElement('div');\n",
              "          docLink.innerHTML = docLinkHtml;\n",
              "          element.appendChild(docLink);\n",
              "        }\n",
              "      </script>\n",
              "    </div>\n",
              "  </div>\n",
              "  "
            ]
          },
          "metadata": {},
          "execution_count": 3
        }
      ],
      "source": [
        "# 데이터셋 다운로드 및 데이터프레임에 저장\n",
        "url = 'http://archive.ics.uci.edu/ml/machine-learning-databases/auto-mpg/auto-mpg.data'\n",
        "column_names = ['MPG', 'Cylinders', 'Displacement', 'Horsepower', 'Weight', 'Acceleration', 'Model Year', 'Origin']\n",
        "raw_dataset = pd.read_csv(url, names=column_names, na_values='?', comment='\\t', sep=' ',  skipinitialspace=True)\n",
        "\n",
        "# 데이터 전처리\n",
        "dataset = raw_dataset.copy()\n",
        "dataset.isna().sum()\n",
        "dataset = dataset.dropna()  \n",
        "\n",
        "# 원-핫 인코딩(One-Hot Encoding)\n",
        "dataset['Origin'] = dataset['Origin'].map({1: 'USA', 2: 'Europe', 3: 'Japan'})\n",
        "dataset = pd.get_dummies(dataset, columns=['Origin'], prefix='', prefix_sep='')\n",
        "\n",
        "dataset.tail()"
      ]
    },
    {
      "cell_type": "code",
      "execution_count": null,
      "metadata": {
        "id": "qn-IGhUE7_1H",
        "colab": {
          "base_uri": "https://localhost:8080/"
        },
        "outputId": "daad1ad3-beb4-4ede-a0cf-e8fc1c25dbac"
      },
      "outputs": [
        {
          "output_type": "stream",
          "name": "stdout",
          "text": [
            "314\n",
            "78\n"
          ]
        }
      ],
      "source": [
        "# 데이터를 훈련 세트와 테스트 세트로 분할\n",
        "train_dataset = dataset.sample(frac=0.8, random_state=0)\n",
        "test_dataset = dataset.drop(train_dataset.index)\n",
        "\n",
        "# 입력변수(X)와 출력변수(y) 구분\n",
        "train_X = train_dataset.copy()\n",
        "test_X = test_dataset.copy()\n",
        "train_y = train_X.pop('MPG')\n",
        "test_y = test_X.pop('MPG')\n",
        "\n",
        "# 훈련 세트와 테스트 세트가 잘 분할되었는지 확인\n",
        "print(len(train_X))\n",
        "print(len(test_X))"
      ]
    },
    {
      "cell_type": "markdown",
      "metadata": {
        "id": "6c51caebbc0d"
      },
      "source": [
        "# DNN과 단일 입력을 사용한 회귀"
      ]
    },
    {
      "cell_type": "markdown",
      "source": [
        "## (3) Build the model"
      ],
      "metadata": {
        "id": "D8GIF_6fBcGW"
      }
    },
    {
      "cell_type": "code",
      "execution_count": null,
      "metadata": {
        "id": "c26juK7ZG8j-"
      },
      "outputs": [],
      "source": [
        "# DNN 모델과 최적화 방법을 정의하는 함수\n",
        "def build_and_compile_model(norm):\n",
        "  model = tf.keras.Sequential([\n",
        "      norm,\n",
        "      # 노드 갯수 64개로 하겠다 -> 하이퍼파라미터이므로 알아서 조정함\n",
        "      layers.Dense(64, activation='relu'),\n",
        "      layers.Dense(64, activation='relu'),\n",
        "      layers.Dense(1)\n",
        "  ])\n",
        "\n",
        "  model.compile(loss='mean_absolute_error',\n",
        "                # 경사하강법 Adam optimazer을 씀\n",
        "                optimizer=tf.keras.optimizers.Adam(0.001))\n",
        "  return model"
      ]
    },
    {
      "cell_type": "code",
      "execution_count": null,
      "metadata": {
        "id": "cGbPb-PHGbhs",
        "colab": {
          "base_uri": "https://localhost:8080/"
        },
        "outputId": "24ce2ea8-dde5-4486-8209-30357a7982a4"
      },
      "outputs": [
        {
          "output_type": "stream",
          "name": "stdout",
          "text": [
            "Model: \"sequential\"\n",
            "_________________________________________________________________\n",
            " Layer (type)                Output Shape              Param #   \n",
            "=================================================================\n",
            " normalization (Normalizatio  (None, 1)                3         \n",
            " n)                                                              \n",
            "                                                                 \n",
            " dense (Dense)               (None, 64)                128       \n",
            "                                                                 \n",
            " dense_1 (Dense)             (None, 64)                4160      \n",
            "                                                                 \n",
            " dense_2 (Dense)             (None, 1)                 65        \n",
            "                                                                 \n",
            "=================================================================\n",
            "Total params: 4,356\n",
            "Trainable params: 4,353\n",
            "Non-trainable params: 3\n",
            "_________________________________________________________________\n"
          ]
        }
      ],
      "source": [
        "# 하나의 입력변수만 추출\n",
        "horsepower = np.array(train_X['Horsepower'])\n",
        "\n",
        "# 해당 입력변수에 대한 normalization layer 생성\n",
        "input_layer_horsepower = layers.Normalization(input_shape=[1,], axis=None)\n",
        "input_layer_horsepower.adapt(horsepower)  \n",
        "\n",
        "# 정의된 함수를 호출하여 DNN모델 빌드\n",
        "dnn_horsepower_model = build_and_compile_model(input_layer_horsepower)\n",
        "\n",
        "# 모델 구조 확인\n",
        "dnn_horsepower_model.summary()"
      ]
    },
    {
      "cell_type": "markdown",
      "source": [
        "- Trainable params가 w갯수임\n",
        "- 노드 갯수(64개)는 결국 화살표 갯수임 때문에 화살표가 많아짐"
      ],
      "metadata": {
        "id": "pdrL8oMkTBK8"
      }
    },
    {
      "cell_type": "markdown",
      "source": [
        "## (4) Training"
      ],
      "metadata": {
        "id": "r_YPlUZ2BpCy"
      }
    },
    {
      "cell_type": "code",
      "execution_count": null,
      "metadata": {
        "id": "sD7qHCmNIOY0",
        "colab": {
          "base_uri": "https://localhost:8080/"
        },
        "outputId": "91492486-8aff-4fa8-d4dc-298773585448"
      },
      "outputs": [
        {
          "output_type": "stream",
          "name": "stdout",
          "text": [
            "Epoch 1/100\n",
            "8/8 [==============================] - 1s 35ms/step - loss: 23.1784 - val_loss: 23.6056\n",
            "Epoch 2/100\n",
            "8/8 [==============================] - 0s 7ms/step - loss: 23.0151 - val_loss: 23.4459\n",
            "Epoch 3/100\n",
            "8/8 [==============================] - 0s 7ms/step - loss: 22.8654 - val_loss: 23.2812\n",
            "Epoch 4/100\n",
            "8/8 [==============================] - 0s 7ms/step - loss: 22.6997 - val_loss: 23.0722\n",
            "Epoch 5/100\n",
            "8/8 [==============================] - 0s 9ms/step - loss: 22.4717 - val_loss: 22.7929\n",
            "Epoch 6/100\n",
            "8/8 [==============================] - 0s 7ms/step - loss: 22.1705 - val_loss: 22.4234\n",
            "Epoch 7/100\n",
            "8/8 [==============================] - 0s 7ms/step - loss: 21.7742 - val_loss: 21.9460\n",
            "Epoch 8/100\n",
            "8/8 [==============================] - 0s 8ms/step - loss: 21.2654 - val_loss: 21.3336\n",
            "Epoch 9/100\n",
            "8/8 [==============================] - 0s 8ms/step - loss: 20.6055 - val_loss: 20.5546\n",
            "Epoch 10/100\n",
            "8/8 [==============================] - 0s 7ms/step - loss: 19.7785 - val_loss: 19.5712\n",
            "Epoch 11/100\n",
            "8/8 [==============================] - 0s 7ms/step - loss: 18.7415 - val_loss: 18.4052\n",
            "Epoch 12/100\n",
            "8/8 [==============================] - 0s 9ms/step - loss: 17.5647 - val_loss: 17.0838\n",
            "Epoch 13/100\n",
            "8/8 [==============================] - 0s 9ms/step - loss: 16.2843 - val_loss: 15.7550\n",
            "Epoch 14/100\n",
            "8/8 [==============================] - 0s 6ms/step - loss: 14.8566 - val_loss: 14.3922\n",
            "Epoch 15/100\n",
            "8/8 [==============================] - 0s 6ms/step - loss: 13.2393 - val_loss: 12.9341\n",
            "Epoch 16/100\n",
            "8/8 [==============================] - 0s 9ms/step - loss: 11.5321 - val_loss: 11.2519\n",
            "Epoch 17/100\n",
            "8/8 [==============================] - 0s 6ms/step - loss: 9.6890 - val_loss: 9.2782\n",
            "Epoch 18/100\n",
            "8/8 [==============================] - 0s 8ms/step - loss: 7.6467 - val_loss: 7.3398\n",
            "Epoch 19/100\n",
            "8/8 [==============================] - 0s 6ms/step - loss: 5.5952 - val_loss: 5.6476\n",
            "Epoch 20/100\n",
            "8/8 [==============================] - 0s 9ms/step - loss: 4.3684 - val_loss: 5.0475\n",
            "Epoch 21/100\n",
            "8/8 [==============================] - 0s 7ms/step - loss: 3.9165 - val_loss: 4.8973\n",
            "Epoch 22/100\n",
            "8/8 [==============================] - 0s 6ms/step - loss: 3.8352 - val_loss: 4.7598\n",
            "Epoch 23/100\n",
            "8/8 [==============================] - 0s 6ms/step - loss: 3.7913 - val_loss: 4.6457\n",
            "Epoch 24/100\n",
            "8/8 [==============================] - 0s 8ms/step - loss: 3.7578 - val_loss: 4.5942\n",
            "Epoch 25/100\n",
            "8/8 [==============================] - 0s 6ms/step - loss: 3.7246 - val_loss: 4.5758\n",
            "Epoch 26/100\n",
            "8/8 [==============================] - 0s 6ms/step - loss: 3.7022 - val_loss: 4.5647\n",
            "Epoch 27/100\n",
            "8/8 [==============================] - 0s 9ms/step - loss: 3.6795 - val_loss: 4.5272\n",
            "Epoch 28/100\n",
            "8/8 [==============================] - 0s 7ms/step - loss: 3.6576 - val_loss: 4.4902\n",
            "Epoch 29/100\n",
            "8/8 [==============================] - 0s 9ms/step - loss: 3.6414 - val_loss: 4.4551\n",
            "Epoch 30/100\n",
            "8/8 [==============================] - 0s 8ms/step - loss: 3.6174 - val_loss: 4.4305\n",
            "Epoch 31/100\n",
            "8/8 [==============================] - 0s 7ms/step - loss: 3.5994 - val_loss: 4.4003\n",
            "Epoch 32/100\n",
            "8/8 [==============================] - 0s 6ms/step - loss: 3.5896 - val_loss: 4.3670\n",
            "Epoch 33/100\n",
            "8/8 [==============================] - 0s 9ms/step - loss: 3.5769 - val_loss: 4.3512\n",
            "Epoch 34/100\n",
            "8/8 [==============================] - 0s 6ms/step - loss: 3.5666 - val_loss: 4.3199\n",
            "Epoch 35/100\n",
            "8/8 [==============================] - 0s 9ms/step - loss: 3.5577 - val_loss: 4.3011\n",
            "Epoch 36/100\n",
            "8/8 [==============================] - 0s 6ms/step - loss: 3.5503 - val_loss: 4.2764\n",
            "Epoch 37/100\n",
            "8/8 [==============================] - 0s 8ms/step - loss: 3.5384 - val_loss: 4.2575\n",
            "Epoch 38/100\n",
            "8/8 [==============================] - 0s 7ms/step - loss: 3.5299 - val_loss: 4.2417\n",
            "Epoch 39/100\n",
            "8/8 [==============================] - 0s 6ms/step - loss: 3.5307 - val_loss: 4.2267\n",
            "Epoch 40/100\n",
            "8/8 [==============================] - 0s 6ms/step - loss: 3.5094 - val_loss: 4.2037\n",
            "Epoch 41/100\n",
            "8/8 [==============================] - 0s 6ms/step - loss: 3.5050 - val_loss: 4.1844\n",
            "Epoch 42/100\n",
            "8/8 [==============================] - 0s 6ms/step - loss: 3.4966 - val_loss: 4.1617\n",
            "Epoch 43/100\n",
            "8/8 [==============================] - 0s 6ms/step - loss: 3.4930 - val_loss: 4.1415\n",
            "Epoch 44/100\n",
            "8/8 [==============================] - 0s 10ms/step - loss: 3.4789 - val_loss: 4.1327\n",
            "Epoch 45/100\n",
            "8/8 [==============================] - 0s 8ms/step - loss: 3.4703 - val_loss: 4.1174\n",
            "Epoch 46/100\n",
            "8/8 [==============================] - 0s 6ms/step - loss: 3.4687 - val_loss: 4.0973\n",
            "Epoch 47/100\n",
            "8/8 [==============================] - 0s 7ms/step - loss: 3.4532 - val_loss: 4.0904\n",
            "Epoch 48/100\n",
            "8/8 [==============================] - 0s 7ms/step - loss: 3.4456 - val_loss: 4.0711\n",
            "Epoch 49/100\n",
            "8/8 [==============================] - 0s 9ms/step - loss: 3.4450 - val_loss: 4.0599\n",
            "Epoch 50/100\n",
            "8/8 [==============================] - 0s 7ms/step - loss: 3.4299 - val_loss: 4.0410\n",
            "Epoch 51/100\n",
            "8/8 [==============================] - 0s 8ms/step - loss: 3.4237 - val_loss: 4.0311\n",
            "Epoch 52/100\n",
            "8/8 [==============================] - 0s 9ms/step - loss: 3.4216 - val_loss: 4.0154\n",
            "Epoch 53/100\n",
            "8/8 [==============================] - 0s 9ms/step - loss: 3.4210 - val_loss: 3.9966\n",
            "Epoch 54/100\n",
            "8/8 [==============================] - 0s 7ms/step - loss: 3.4234 - val_loss: 4.0045\n",
            "Epoch 55/100\n",
            "8/8 [==============================] - 0s 6ms/step - loss: 3.3996 - val_loss: 3.9847\n",
            "Epoch 56/100\n",
            "8/8 [==============================] - 0s 10ms/step - loss: 3.3977 - val_loss: 3.9651\n",
            "Epoch 57/100\n",
            "8/8 [==============================] - 0s 10ms/step - loss: 3.3815 - val_loss: 3.9604\n",
            "Epoch 58/100\n",
            "8/8 [==============================] - 0s 7ms/step - loss: 3.3717 - val_loss: 3.9499\n",
            "Epoch 59/100\n",
            "8/8 [==============================] - 0s 7ms/step - loss: 3.3675 - val_loss: 3.9424\n",
            "Epoch 60/100\n",
            "8/8 [==============================] - 0s 10ms/step - loss: 3.3633 - val_loss: 3.9395\n",
            "Epoch 61/100\n",
            "8/8 [==============================] - 0s 7ms/step - loss: 3.3575 - val_loss: 3.9248\n",
            "Epoch 62/100\n",
            "8/8 [==============================] - 0s 8ms/step - loss: 3.3501 - val_loss: 3.9129\n",
            "Epoch 63/100\n",
            "8/8 [==============================] - 0s 6ms/step - loss: 3.3444 - val_loss: 3.9080\n",
            "Epoch 64/100\n",
            "8/8 [==============================] - 0s 6ms/step - loss: 3.3443 - val_loss: 3.9064\n",
            "Epoch 65/100\n",
            "8/8 [==============================] - 0s 7ms/step - loss: 3.3451 - val_loss: 3.8900\n",
            "Epoch 66/100\n",
            "8/8 [==============================] - 0s 9ms/step - loss: 3.3318 - val_loss: 3.8777\n",
            "Epoch 67/100\n",
            "8/8 [==============================] - 0s 6ms/step - loss: 3.3317 - val_loss: 3.8795\n",
            "Epoch 68/100\n",
            "8/8 [==============================] - 0s 6ms/step - loss: 3.3288 - val_loss: 3.8743\n",
            "Epoch 69/100\n",
            "8/8 [==============================] - 0s 6ms/step - loss: 3.3322 - val_loss: 3.8741\n",
            "Epoch 70/100\n",
            "8/8 [==============================] - 0s 6ms/step - loss: 3.3181 - val_loss: 3.8527\n",
            "Epoch 71/100\n",
            "8/8 [==============================] - 0s 7ms/step - loss: 3.3079 - val_loss: 3.8457\n",
            "Epoch 72/100\n",
            "8/8 [==============================] - 0s 6ms/step - loss: 3.3192 - val_loss: 3.8426\n",
            "Epoch 73/100\n",
            "8/8 [==============================] - 0s 6ms/step - loss: 3.3069 - val_loss: 3.8365\n",
            "Epoch 74/100\n",
            "8/8 [==============================] - 0s 6ms/step - loss: 3.3039 - val_loss: 3.8279\n",
            "Epoch 75/100\n",
            "8/8 [==============================] - 0s 6ms/step - loss: 3.3061 - val_loss: 3.8253\n",
            "Epoch 76/100\n",
            "8/8 [==============================] - 0s 6ms/step - loss: 3.3016 - val_loss: 3.8223\n",
            "Epoch 77/100\n",
            "8/8 [==============================] - 0s 6ms/step - loss: 3.3163 - val_loss: 3.8191\n",
            "Epoch 78/100\n",
            "8/8 [==============================] - 0s 7ms/step - loss: 3.2974 - val_loss: 3.8190\n",
            "Epoch 79/100\n",
            "8/8 [==============================] - 0s 6ms/step - loss: 3.2942 - val_loss: 3.8176\n",
            "Epoch 80/100\n",
            "8/8 [==============================] - 0s 7ms/step - loss: 3.2941 - val_loss: 3.8108\n",
            "Epoch 81/100\n",
            "8/8 [==============================] - 0s 8ms/step - loss: 3.2936 - val_loss: 3.8015\n",
            "Epoch 82/100\n",
            "8/8 [==============================] - 0s 7ms/step - loss: 3.2914 - val_loss: 3.8023\n",
            "Epoch 83/100\n",
            "8/8 [==============================] - 0s 9ms/step - loss: 3.2903 - val_loss: 3.8044\n",
            "Epoch 84/100\n",
            "8/8 [==============================] - 0s 7ms/step - loss: 3.2914 - val_loss: 3.8017\n",
            "Epoch 85/100\n",
            "8/8 [==============================] - 0s 9ms/step - loss: 3.2945 - val_loss: 3.7991\n",
            "Epoch 86/100\n",
            "8/8 [==============================] - 0s 7ms/step - loss: 3.2890 - val_loss: 3.7956\n",
            "Epoch 87/100\n",
            "8/8 [==============================] - 0s 9ms/step - loss: 3.2912 - val_loss: 3.8034\n",
            "Epoch 88/100\n",
            "8/8 [==============================] - 0s 6ms/step - loss: 3.2946 - val_loss: 3.8073\n",
            "Epoch 89/100\n",
            "8/8 [==============================] - 0s 7ms/step - loss: 3.3081 - val_loss: 3.7909\n",
            "Epoch 90/100\n",
            "8/8 [==============================] - 0s 11ms/step - loss: 3.2965 - val_loss: 3.7931\n",
            "Epoch 91/100\n",
            "8/8 [==============================] - 0s 9ms/step - loss: 3.2947 - val_loss: 3.8075\n",
            "Epoch 92/100\n",
            "8/8 [==============================] - 0s 9ms/step - loss: 3.2856 - val_loss: 3.7934\n",
            "Epoch 93/100\n",
            "8/8 [==============================] - 0s 7ms/step - loss: 3.2820 - val_loss: 3.7823\n",
            "Epoch 94/100\n",
            "8/8 [==============================] - 0s 9ms/step - loss: 3.2922 - val_loss: 3.7894\n",
            "Epoch 95/100\n",
            "8/8 [==============================] - 0s 7ms/step - loss: 3.2850 - val_loss: 3.7837\n",
            "Epoch 96/100\n",
            "8/8 [==============================] - 0s 8ms/step - loss: 3.2933 - val_loss: 3.7798\n",
            "Epoch 97/100\n",
            "8/8 [==============================] - 0s 6ms/step - loss: 3.2847 - val_loss: 3.7977\n",
            "Epoch 98/100\n",
            "8/8 [==============================] - 0s 9ms/step - loss: 3.2803 - val_loss: 3.7894\n",
            "Epoch 99/100\n",
            "8/8 [==============================] - 0s 6ms/step - loss: 3.2827 - val_loss: 3.7804\n",
            "Epoch 100/100\n",
            "8/8 [==============================] - 0s 6ms/step - loss: 3.2801 - val_loss: 3.7827\n",
            "CPU times: user 6.47 s, sys: 300 ms, total: 6.77 s\n",
            "Wall time: 7.36 s\n"
          ]
        }
      ],
      "source": [
        "%%time\n",
        "# 100 epoch에 대한 훈련을 실행하고 진행 과정 기록\n",
        "history = dnn_horsepower_model.fit(\n",
        "    train_X['Horsepower'],\n",
        "    train_y,\n",
        "    epochs=100,  \n",
        "    # train set안에서 train set과 validation set을 8대2로 나눔\n",
        "    # validation은 training하는 과정에서 쓰임\n",
        "    # 학습이 epoch의 어느시점에서 잘 학습되고 있나 확인하는 것임\n",
        "    # \n",
        "    validation_split = 0.2)"
      ]
    },
    {
      "cell_type": "code",
      "execution_count": null,
      "metadata": {
        "id": "NcF6UWjdCU8T",
        "colab": {
          "base_uri": "https://localhost:8080/",
          "height": 449
        },
        "outputId": "5655440c-7660-49c9-b17e-1ff781316810"
      },
      "outputs": [
        {
          "output_type": "display_data",
          "data": {
            "text/plain": [
              "<Figure size 640x480 with 1 Axes>"
            ],
            "image/png": "[encoded data removed]"
          },
          "metadata": {}
        }
      ],
      "source": [
        "# 훈련과정을 시각화하기 위한 함수 정의\n",
        "def plot_loss(history):\n",
        "  plt.plot(history.history['loss'], label='loss')\n",
        "  plt.plot(history.history['val_loss'], label='val_loss') \n",
        "  plt.xlabel('Epoch')\n",
        "  plt.ylabel('Error [MPG]')\n",
        "  plt.legend()\n",
        "  plt.grid(True)\n",
        "\n",
        "# 훈련과정 시각화\n",
        "plot_loss(history)"
      ]
    },
    {
      "cell_type": "markdown",
      "source": [
        "## (5) Evaluation"
      ],
      "metadata": {
        "id": "WLgG8xynB_UV"
      }
    },
    {
      "cell_type": "code",
      "execution_count": null,
      "metadata": {
        "id": "hPF53Rem14NS",
        "colab": {
          "base_uri": "https://localhost:8080/",
          "height": 485
        },
        "outputId": "fc6304b8-96c8-49f2-dd9c-44e65e16eda8"
      },
      "outputs": [
        {
          "output_type": "stream",
          "name": "stdout",
          "text": [
            "3/3 [==============================] - 0s 4ms/step - loss: 2.9581\n",
            "8/8 [==============================] - 0s 2ms/step\n"
          ]
        },
        {
          "output_type": "display_data",
          "data": {
            "text/plain": [
              "<Figure size 640x480 with 1 Axes>"
            ],
            "image/png": "[encoded data removed]"
          },
          "metadata": {}
        }
      ],
      "source": [
        "# 테스트 결과 수집\n",
        "test_results = {}\n",
        "test_results['dnn_horsepower_model'] = dnn_horsepower_model.evaluate(test_X['Horsepower'], test_y)\n",
        "\n",
        "# 테스트 결과 시각화\n",
        "def plot_horsepower(x, y):\n",
        "  plt.scatter(train_X['Horsepower'], train_y, label='Data')\n",
        "  plt.plot(x, y, color='k', label='Predictions')\n",
        "  plt.xlabel('Horsepower')\n",
        "  plt.ylabel('MPG')\n",
        "  plt.legend()\n",
        "\n",
        "x = tf.linspace(0.0, 250, 251)\n",
        "y = dnn_horsepower_model.predict(x)\n",
        "plot_horsepower(x, y)"
      ]
    },
    {
      "cell_type": "markdown",
      "metadata": {
        "id": "S_2Btebp2e64"
      },
      "source": [
        "# DNN 및 다중 입력을 사용한 회귀"
      ]
    },
    {
      "cell_type": "markdown",
      "source": [
        "## (3) Build the model"
      ],
      "metadata": {
        "id": "ODQ0WvTB_uTw"
      }
    },
    {
      "cell_type": "code",
      "source": [
        "# 9개 입력변수에 대한 mean, variance 계산 => Z-score normalization (이하 normalization) 준비 \n",
        "input_layer = tf.keras.layers.Normalization() \n",
        "input_layer.adapt(np.array(train_X))   \n",
        "\n",
        "# 정의된 함수를 호출하여 DNN모델 빌드\n",
        "dnn_model = build_and_compile_model(input_layer)\n",
        "\n",
        "# 모델 구조 확인\n",
        "dnn_model.summary()"
      ],
      "metadata": {
        "colab": {
          "base_uri": "https://localhost:8080/"
        },
        "id": "M4hmsDk1vqId",
        "outputId": "9f3836cb-2dff-4ea2-bbee-eeed9ca1dc3b"
      },
      "execution_count": null,
      "outputs": [
        {
          "output_type": "stream",
          "name": "stdout",
          "text": [
            "Model: \"sequential_1\"\n",
            "_________________________________________________________________\n",
            " Layer (type)                Output Shape              Param #   \n",
            "=================================================================\n",
            " normalization_1 (Normalizat  (None, 9)                19        \n",
            " ion)                                                            \n",
            "                                                                 \n",
            " dense_3 (Dense)             (None, 64)                640       \n",
            "                                                                 \n",
            " dense_4 (Dense)             (None, 64)                4160      \n",
            "                                                                 \n",
            " dense_5 (Dense)             (None, 1)                 65        \n",
            "                                                                 \n",
            "=================================================================\n",
            "Total params: 4,884\n",
            "Trainable params: 4,865\n",
            "Non-trainable params: 19\n",
            "_________________________________________________________________\n"
          ]
        }
      ]
    },
    {
      "cell_type": "markdown",
      "source": [
        "- Non-trainable params은 신경을 안써도됨\n",
        "- 평균, 정규화 같은 정보에 대한 파라미터임\n",
        "- Trainable params는 dense 3, 4, 5만 더하면됨\n"
      ],
      "metadata": {
        "id": "UCNXcSGad6Zm"
      }
    },
    {
      "cell_type": "markdown",
      "source": [
        "## (4) Training"
      ],
      "metadata": {
        "id": "ZxunGVBZ_6rj"
      }
    },
    {
      "cell_type": "code",
      "execution_count": null,
      "metadata": {
        "id": "CXDENACl2tuW",
        "colab": {
          "base_uri": "https://localhost:8080/"
        },
        "outputId": "1510c21b-e720-442b-efa1-879838ad8e94"
      },
      "outputs": [
        {
          "output_type": "stream",
          "name": "stdout",
          "text": [
            "Epoch 1/100\n",
            "8/8 [==============================] - 2s 38ms/step - loss: 22.5487 - val_loss: 22.5164\n",
            "Epoch 2/100\n",
            "8/8 [==============================] - 0s 6ms/step - loss: 21.6642 - val_loss: 21.5347\n",
            "Epoch 3/100\n",
            "8/8 [==============================] - 0s 7ms/step - loss: 20.6954 - val_loss: 20.3822\n",
            "Epoch 4/100\n",
            "8/8 [==============================] - 0s 6ms/step - loss: 19.5225 - val_loss: 18.9356\n",
            "Epoch 5/100\n",
            "8/8 [==============================] - 0s 6ms/step - loss: 18.0186 - val_loss: 17.1195\n",
            "Epoch 6/100\n",
            "8/8 [==============================] - 0s 8ms/step - loss: 16.2202 - val_loss: 15.2572\n",
            "Epoch 7/100\n",
            "8/8 [==============================] - 0s 9ms/step - loss: 14.3421 - val_loss: 13.4028\n",
            "Epoch 8/100\n",
            "8/8 [==============================] - 0s 7ms/step - loss: 12.3806 - val_loss: 11.1684\n",
            "Epoch 9/100\n",
            "8/8 [==============================] - 0s 8ms/step - loss: 10.1593 - val_loss: 8.6468\n",
            "Epoch 10/100\n",
            "8/8 [==============================] - 0s 8ms/step - loss: 7.5551 - val_loss: 6.3652\n",
            "Epoch 11/100\n",
            "8/8 [==============================] - 0s 10ms/step - loss: 5.6758 - val_loss: 5.2316\n",
            "Epoch 12/100\n",
            "8/8 [==============================] - 0s 7ms/step - loss: 5.0278 - val_loss: 4.6767\n",
            "Epoch 13/100\n",
            "8/8 [==============================] - 0s 9ms/step - loss: 4.3975 - val_loss: 4.1712\n",
            "Epoch 14/100\n",
            "8/8 [==============================] - 0s 10ms/step - loss: 3.8765 - val_loss: 3.9503\n",
            "Epoch 15/100\n",
            "8/8 [==============================] - 0s 9ms/step - loss: 3.6308 - val_loss: 3.7515\n",
            "Epoch 16/100\n",
            "8/8 [==============================] - 0s 9ms/step - loss: 3.4001 - val_loss: 3.5053\n",
            "Epoch 17/100\n",
            "8/8 [==============================] - 0s 7ms/step - loss: 3.2499 - val_loss: 3.3079\n",
            "Epoch 18/100\n",
            "8/8 [==============================] - 0s 9ms/step - loss: 3.0655 - val_loss: 3.1909\n",
            "Epoch 19/100\n",
            "8/8 [==============================] - 0s 9ms/step - loss: 2.9503 - val_loss: 3.0020\n",
            "Epoch 20/100\n",
            "8/8 [==============================] - 0s 7ms/step - loss: 2.8197 - val_loss: 2.8634\n",
            "Epoch 21/100\n",
            "8/8 [==============================] - 0s 8ms/step - loss: 2.7209 - val_loss: 2.7643\n",
            "Epoch 22/100\n",
            "8/8 [==============================] - 0s 7ms/step - loss: 2.6393 - val_loss: 2.6543\n",
            "Epoch 23/100\n",
            "8/8 [==============================] - 0s 6ms/step - loss: 2.5619 - val_loss: 2.5722\n",
            "Epoch 24/100\n",
            "8/8 [==============================] - 0s 6ms/step - loss: 2.4724 - val_loss: 2.5545\n",
            "Epoch 25/100\n",
            "8/8 [==============================] - 0s 10ms/step - loss: 2.4442 - val_loss: 2.4388\n",
            "Epoch 26/100\n",
            "8/8 [==============================] - 0s 8ms/step - loss: 2.3629 - val_loss: 2.4197\n",
            "Epoch 27/100\n",
            "8/8 [==============================] - 0s 6ms/step - loss: 2.2996 - val_loss: 2.3694\n",
            "Epoch 28/100\n",
            "8/8 [==============================] - 0s 8ms/step - loss: 2.2389 - val_loss: 2.3054\n",
            "Epoch 29/100\n",
            "8/8 [==============================] - 0s 9ms/step - loss: 2.1765 - val_loss: 2.3260\n",
            "Epoch 30/100\n",
            "8/8 [==============================] - 0s 6ms/step - loss: 2.1378 - val_loss: 2.2757\n",
            "Epoch 31/100\n",
            "8/8 [==============================] - 0s 6ms/step - loss: 2.1175 - val_loss: 2.2605\n",
            "Epoch 32/100\n",
            "8/8 [==============================] - 0s 8ms/step - loss: 2.0697 - val_loss: 2.2528\n",
            "Epoch 33/100\n",
            "8/8 [==============================] - 0s 12ms/step - loss: 2.0478 - val_loss: 2.2092\n",
            "Epoch 34/100\n",
            "8/8 [==============================] - 0s 11ms/step - loss: 2.0401 - val_loss: 2.2210\n",
            "Epoch 35/100\n",
            "8/8 [==============================] - 0s 11ms/step - loss: 2.0021 - val_loss: 2.1696\n",
            "Epoch 36/100\n",
            "8/8 [==============================] - 0s 11ms/step - loss: 2.0040 - val_loss: 2.1752\n",
            "Epoch 37/100\n",
            "8/8 [==============================] - 0s 12ms/step - loss: 1.9899 - val_loss: 2.2700\n",
            "Epoch 38/100\n",
            "8/8 [==============================] - 0s 13ms/step - loss: 2.0049 - val_loss: 2.2094\n",
            "Epoch 39/100\n",
            "8/8 [==============================] - 0s 13ms/step - loss: 1.9802 - val_loss: 2.1037\n",
            "Epoch 40/100\n",
            "8/8 [==============================] - 0s 12ms/step - loss: 1.9511 - val_loss: 2.1977\n",
            "Epoch 41/100\n",
            "8/8 [==============================] - 0s 10ms/step - loss: 1.9260 - val_loss: 2.1488\n",
            "Epoch 42/100\n",
            "8/8 [==============================] - 0s 10ms/step - loss: 1.9033 - val_loss: 2.1456\n",
            "Epoch 43/100\n",
            "8/8 [==============================] - 0s 12ms/step - loss: 1.8963 - val_loss: 2.1715\n",
            "Epoch 44/100\n",
            "8/8 [==============================] - 0s 10ms/step - loss: 1.9196 - val_loss: 2.0979\n",
            "Epoch 45/100\n",
            "8/8 [==============================] - 0s 10ms/step - loss: 1.8702 - val_loss: 2.1949\n",
            "Epoch 46/100\n",
            "8/8 [==============================] - 0s 13ms/step - loss: 1.8695 - val_loss: 2.1659\n",
            "Epoch 47/100\n",
            "8/8 [==============================] - 0s 13ms/step - loss: 1.8619 - val_loss: 2.1248\n",
            "Epoch 48/100\n",
            "8/8 [==============================] - 0s 13ms/step - loss: 1.8490 - val_loss: 2.1370\n",
            "Epoch 49/100\n",
            "8/8 [==============================] - 0s 13ms/step - loss: 1.8463 - val_loss: 2.1459\n",
            "Epoch 50/100\n",
            "8/8 [==============================] - 0s 13ms/step - loss: 1.8403 - val_loss: 2.1655\n",
            "Epoch 51/100\n",
            "8/8 [==============================] - 0s 11ms/step - loss: 1.8335 - val_loss: 2.1381\n",
            "Epoch 52/100\n",
            "8/8 [==============================] - 0s 11ms/step - loss: 1.8214 - val_loss: 2.1588\n",
            "Epoch 53/100\n",
            "8/8 [==============================] - 0s 12ms/step - loss: 1.8068 - val_loss: 2.1623\n",
            "Epoch 54/100\n",
            "8/8 [==============================] - 0s 10ms/step - loss: 1.8091 - val_loss: 2.1261\n",
            "Epoch 55/100\n",
            "8/8 [==============================] - 0s 10ms/step - loss: 1.8018 - val_loss: 2.1183\n",
            "Epoch 56/100\n",
            "8/8 [==============================] - 0s 11ms/step - loss: 1.7927 - val_loss: 2.1708\n",
            "Epoch 57/100\n",
            "8/8 [==============================] - 0s 12ms/step - loss: 1.7917 - val_loss: 2.1250\n",
            "Epoch 58/100\n",
            "8/8 [==============================] - 0s 10ms/step - loss: 1.8192 - val_loss: 2.1262\n",
            "Epoch 59/100\n",
            "8/8 [==============================] - 0s 12ms/step - loss: 1.7880 - val_loss: 2.1571\n",
            "Epoch 60/100\n",
            "8/8 [==============================] - 0s 11ms/step - loss: 1.7979 - val_loss: 2.1523\n",
            "Epoch 61/100\n",
            "8/8 [==============================] - 0s 12ms/step - loss: 1.7849 - val_loss: 2.1216\n",
            "Epoch 62/100\n",
            "8/8 [==============================] - 0s 13ms/step - loss: 1.7658 - val_loss: 2.1244\n",
            "Epoch 63/100\n",
            "8/8 [==============================] - 0s 12ms/step - loss: 1.7573 - val_loss: 2.1232\n",
            "Epoch 64/100\n",
            "8/8 [==============================] - 0s 12ms/step - loss: 1.7545 - val_loss: 2.1383\n",
            "Epoch 65/100\n",
            "8/8 [==============================] - 0s 7ms/step - loss: 1.7504 - val_loss: 2.1341\n",
            "Epoch 66/100\n",
            "8/8 [==============================] - 0s 9ms/step - loss: 1.7469 - val_loss: 2.0967\n",
            "Epoch 67/100\n",
            "8/8 [==============================] - 0s 7ms/step - loss: 1.7422 - val_loss: 2.1658\n",
            "Epoch 68/100\n",
            "8/8 [==============================] - 0s 7ms/step - loss: 1.7297 - val_loss: 2.0834\n",
            "Epoch 69/100\n",
            "8/8 [==============================] - 0s 7ms/step - loss: 1.7326 - val_loss: 2.1116\n",
            "Epoch 70/100\n",
            "8/8 [==============================] - 0s 9ms/step - loss: 1.7304 - val_loss: 2.0972\n",
            "Epoch 71/100\n",
            "8/8 [==============================] - 0s 6ms/step - loss: 1.7231 - val_loss: 2.1194\n",
            "Epoch 72/100\n",
            "8/8 [==============================] - 0s 8ms/step - loss: 1.7251 - val_loss: 2.1184\n",
            "Epoch 73/100\n",
            "8/8 [==============================] - 0s 7ms/step - loss: 1.7176 - val_loss: 2.0612\n",
            "Epoch 74/100\n",
            "8/8 [==============================] - 0s 7ms/step - loss: 1.7235 - val_loss: 2.1800\n",
            "Epoch 75/100\n",
            "8/8 [==============================] - 0s 6ms/step - loss: 1.7056 - val_loss: 2.0839\n",
            "Epoch 76/100\n",
            "8/8 [==============================] - 0s 7ms/step - loss: 1.7072 - val_loss: 2.1650\n",
            "Epoch 77/100\n",
            "8/8 [==============================] - 0s 6ms/step - loss: 1.7112 - val_loss: 2.0691\n",
            "Epoch 78/100\n",
            "8/8 [==============================] - 0s 8ms/step - loss: 1.7087 - val_loss: 2.1221\n",
            "Epoch 79/100\n",
            "8/8 [==============================] - 0s 7ms/step - loss: 1.6987 - val_loss: 2.1223\n",
            "Epoch 80/100\n",
            "8/8 [==============================] - 0s 8ms/step - loss: 1.6935 - val_loss: 2.1329\n",
            "Epoch 81/100\n",
            "8/8 [==============================] - 0s 6ms/step - loss: 1.7104 - val_loss: 2.0903\n",
            "Epoch 82/100\n",
            "8/8 [==============================] - 0s 6ms/step - loss: 1.6773 - val_loss: 2.1790\n",
            "Epoch 83/100\n",
            "8/8 [==============================] - 0s 6ms/step - loss: 1.6875 - val_loss: 2.1348\n",
            "Epoch 84/100\n",
            "8/8 [==============================] - 0s 7ms/step - loss: 1.6682 - val_loss: 2.1509\n",
            "Epoch 85/100\n",
            "8/8 [==============================] - 0s 7ms/step - loss: 1.6869 - val_loss: 2.0537\n",
            "Epoch 86/100\n",
            "8/8 [==============================] - 0s 6ms/step - loss: 1.6699 - val_loss: 2.1659\n",
            "Epoch 87/100\n",
            "8/8 [==============================] - 0s 6ms/step - loss: 1.6624 - val_loss: 2.0670\n",
            "Epoch 88/100\n",
            "8/8 [==============================] - 0s 6ms/step - loss: 1.6771 - val_loss: 2.0825\n",
            "Epoch 89/100\n",
            "8/8 [==============================] - 0s 6ms/step - loss: 1.6627 - val_loss: 2.1564\n",
            "Epoch 90/100\n",
            "8/8 [==============================] - 0s 6ms/step - loss: 1.6664 - val_loss: 2.0891\n",
            "Epoch 91/100\n",
            "8/8 [==============================] - 0s 7ms/step - loss: 1.6681 - val_loss: 2.1123\n",
            "Epoch 92/100\n",
            "8/8 [==============================] - 0s 6ms/step - loss: 1.6545 - val_loss: 2.1066\n",
            "Epoch 93/100\n",
            "8/8 [==============================] - 0s 6ms/step - loss: 1.6670 - val_loss: 2.1551\n",
            "Epoch 94/100\n",
            "8/8 [==============================] - 0s 9ms/step - loss: 1.6383 - val_loss: 2.0795\n",
            "Epoch 95/100\n",
            "8/8 [==============================] - 0s 9ms/step - loss: 1.6696 - val_loss: 2.1069\n",
            "Epoch 96/100\n",
            "8/8 [==============================] - 0s 7ms/step - loss: 1.6511 - val_loss: 2.0752\n",
            "Epoch 97/100\n",
            "8/8 [==============================] - 0s 7ms/step - loss: 1.6368 - val_loss: 2.1277\n",
            "Epoch 98/100\n",
            "8/8 [==============================] - 0s 6ms/step - loss: 1.6305 - val_loss: 2.1465\n",
            "Epoch 99/100\n",
            "8/8 [==============================] - 0s 6ms/step - loss: 1.6284 - val_loss: 2.1394\n",
            "Epoch 100/100\n",
            "8/8 [==============================] - 0s 8ms/step - loss: 1.6242 - val_loss: 2.1402\n",
            "CPU times: user 7.54 s, sys: 289 ms, total: 7.83 s\n",
            "Wall time: 11.9 s\n"
          ]
        }
      ],
      "source": [
        "%%time \n",
        "# 100 epoch에 대한 훈련을 실행하고 진행 과정 기록\n",
        "history = dnn_model.fit(\n",
        "    train_X,\n",
        "    train_y,\n",
        "    validation_split=0.2,\n",
        "    epochs=100)"
      ]
    },
    {
      "cell_type": "code",
      "execution_count": null,
      "metadata": {
        "id": "-9Dbj0fX23RQ",
        "colab": {
          "base_uri": "https://localhost:8080/",
          "height": 449
        },
        "outputId": "43f37b70-a70f-47f6-f054-4e27bfb69131"
      },
      "outputs": [
        {
          "output_type": "display_data",
          "data": {
            "text/plain": [
              "<Figure size 640x480 with 1 Axes>"
            ],
            "image/png": "[encoded data removed]"
          },
          "metadata": {}
        }
      ],
      "source": [
        "# 훈련과정 시각화\n",
        "plot_loss(history)"
      ]
    },
    {
      "cell_type": "markdown",
      "source": [
        "## (5) Evaluation"
      ],
      "metadata": {
        "id": "NXa794z8AcxX"
      }
    },
    {
      "cell_type": "code",
      "execution_count": null,
      "metadata": {
        "id": "-bZIa96W3c7K",
        "colab": {
          "base_uri": "https://localhost:8080/"
        },
        "outputId": "3bad179b-3a39-45ab-eabf-66cd5d5ab38e"
      },
      "outputs": [
        {
          "output_type": "stream",
          "name": "stdout",
          "text": [
            "3/3 [==============================] - 0s 5ms/step - loss: 1.6986\n"
          ]
        }
      ],
      "source": [
        "# 테스트 결과 수집\n",
        "test_results['dnn_model'] = dnn_model.evaluate(test_X, test_y)"
      ]
    },
    {
      "cell_type": "code",
      "execution_count": null,
      "metadata": {
        "id": "e5_ooufM5iH2",
        "colab": {
          "base_uri": "https://localhost:8080/",
          "height": 112
        },
        "outputId": "d60f8d93-c4c5-46c1-b5f9-5bc6fe6fbedc"
      },
      "outputs": [
        {
          "output_type": "execute_result",
          "data": {
            "text/plain": [
              "                      Mean absolute error [MPG]\n",
              "dnn_horsepower_model                    2.95810\n",
              "dnn_model                               1.69856"
            ],
            "text/html": [
              "\n",
              "  <div id=\"df-579adf36-b38e-4531-b04f-6114c732cf45\">\n",
              "    <div class=\"colab-df-container\">\n",
              "      <div>\n",
              "<style scoped>\n",
              "    .dataframe tbody tr th:only-of-type {\n",
              "        vertical-align: middle;\n",
              "    }\n",
              "\n",
              "    .dataframe tbody tr th {\n",
              "        vertical-align: top;\n",
              "    }\n",
              "\n",
              "    .dataframe thead th {\n",
              "        text-align: right;\n",
              "    }\n",
              "</style>\n",
              "<table border=\"1\" class=\"dataframe\">\n",
              "  <thead>\n",
              "    <tr style=\"text-align: right;\">\n",
              "      <th></th>\n",
              "      <th>Mean absolute error [MPG]</th>\n",
              "    </tr>\n",
              "  </thead>\n",
              "  <tbody>\n",
              "    <tr>\n",
              "      <th>dnn_horsepower_model</th>\n",
              "      <td>2.95810</td>\n",
              "    </tr>\n",
              "    <tr>\n",
              "      <th>dnn_model</th>\n",
              "      <td>1.69856</td>\n",
              "    </tr>\n",
              "  </tbody>\n",
              "</table>\n",
              "</div>\n",
              "      <button class=\"colab-df-convert\" onclick=\"convertToInteractive('df-579adf36-b38e-4531-b04f-6114c732cf45')\"\n",
              "              title=\"Convert this dataframe to an interactive table.\"\n",
              "              style=\"display:none;\">\n",
              "        \n",
              "  <svg xmlns=\"http://www.w3.org/2000/svg\" height=\"24px\"viewBox=\"0 0 24 24\"\n",
              "       width=\"24px\">\n",
              "    <path d=\"M0 0h24v24H0V0z\" fill=\"none\"/>\n",
              "    <path d=\"M18.56 5.44l.94 2.06.94-2.06 2.06-.94-2.06-.94-.94-2.06-.94 2.06-2.06.94zm-11 1L8.5 8.5l.94-2.06 2.06-.94-2.06-.94L8.5 2.5l-.94 2.06-2.06.94zm10 10l.94 2.06.94-2.06 2.06-.94-2.06-.94-.94-2.06-.94 2.06-2.06.94z\"/><path d=\"M17.41 7.96l-1.37-1.37c-.4-.4-.92-.59-1.43-.59-.52 0-1.04.2-1.43.59L10.3 9.45l-7.72 7.72c-.78.78-.78 2.05 0 2.83L4 21.41c.39.39.9.59 1.41.59.51 0 1.02-.2 1.41-.59l7.78-7.78 2.81-2.81c.8-.78.8-2.07 0-2.86zM5.41 20L4 18.59l7.72-7.72 1.47 1.35L5.41 20z\"/>\n",
              "  </svg>\n",
              "      </button>\n",
              "      \n",
              "  <style>\n",
              "    .colab-df-container {\n",
              "      display:flex;\n",
              "      flex-wrap:wrap;\n",
              "      gap: 12px;\n",
              "    }\n",
              "\n",
              "    .colab-df-convert {\n",
              "      background-color: #E8F0FE;\n",
              "      border: none;\n",
              "      border-radius: 50%;\n",
              "      cursor: pointer;\n",
              "      display: none;\n",
              "      fill: #1967D2;\n",
              "      height: 32px;\n",
              "      padding: 0 0 0 0;\n",
              "      width: 32px;\n",
              "    }\n",
              "\n",
              "    .colab-df-convert:hover {\n",
              "      background-color: #E2EBFA;\n",
              "      box-shadow: 0px 1px 2px rgba(60, 64, 67, 0.3), 0px 1px 3px 1px rgba(60, 64, 67, 0.15);\n",
              "      fill: #174EA6;\n",
              "    }\n",
              "\n",
              "    [theme=dark] .colab-df-convert {\n",
              "      background-color: #3B4455;\n",
              "      fill: #D2E3FC;\n",
              "    }\n",
              "\n",
              "    [theme=dark] .colab-df-convert:hover {\n",
              "      background-color: #434B5C;\n",
              "      box-shadow: 0px 1px 3px 1px rgba(0, 0, 0, 0.15);\n",
              "      filter: drop-shadow(0px 1px 2px rgba(0, 0, 0, 0.3));\n",
              "      fill: #FFFFFF;\n",
              "    }\n",
              "  </style>\n",
              "\n",
              "      <script>\n",
              "        const buttonEl =\n",
              "          document.querySelector('#df-579adf36-b38e-4531-b04f-6114c732cf45 button.colab-df-convert');\n",
              "        buttonEl.style.display =\n",
              "          google.colab.kernel.accessAllowed ? 'block' : 'none';\n",
              "\n",
              "        async function convertToInteractive(key) {\n",
              "          const element = document.querySelector('#df-579adf36-b38e-4531-b04f-6114c732cf45');\n",
              "          const dataTable =\n",
              "            await google.colab.kernel.invokeFunction('convertToInteractive',\n",
              "                                                     [key], {});\n",
              "          if (!dataTable) return;\n",
              "\n",
              "          const docLinkHtml = 'Like what you see? Visit the ' +\n",
              "            '<a target=\"_blank\" href=https://colab.research.google.com/notebooks/data_table.ipynb>data table notebook</a>'\n",
              "            + ' to learn more about interactive tables.';\n",
              "          element.innerHTML = '';\n",
              "          dataTable['output_type'] = 'display_data';\n",
              "          await google.colab.output.renderOutput(dataTable, element);\n",
              "          const docLink = document.createElement('div');\n",
              "          docLink.innerHTML = docLinkHtml;\n",
              "          element.appendChild(docLink);\n",
              "        }\n",
              "      </script>\n",
              "    </div>\n",
              "  </div>\n",
              "  "
            ]
          },
          "metadata": {},
          "execution_count": 15
        }
      ],
      "source": [
        "# 기존 모델과의 비교\n",
        "pd.DataFrame(test_results, index=['Mean absolute error [MPG]']).T"
      ]
    },
    {
      "cell_type": "code",
      "execution_count": null,
      "metadata": {
        "id": "Xe7RXH3N3CWU",
        "colab": {
          "base_uri": "https://localhost:8080/",
          "height": 473
        },
        "outputId": "b4581b63-7626-460b-e92b-43f7fc54f381"
      },
      "outputs": [
        {
          "output_type": "stream",
          "name": "stdout",
          "text": [
            "3/3 [==============================] - 0s 3ms/step\n"
          ]
        },
        {
          "output_type": "display_data",
          "data": {
            "text/plain": [
              "<Figure size 640x480 with 1 Axes>"
            ],
            "image/png": "[encoded data removed]"
          },
          "metadata": {}
        }
      ],
      "source": [
        "# 실측값과 예측값에 대한 데이터 비교\n",
        "# y=x 그래프 일수록 학습이 잘된 것임\n",
        "# 훈련된 모델로 예측하기\n",
        "test_predictions = dnn_model.predict(test_X).flatten()\n",
        "\n",
        "# 예측 결과 시각화\n",
        "a = plt.axes(aspect='equal')\n",
        "plt.scatter(test_y, test_predictions)\n",
        "plt.xlabel('True Values [MPG]')\n",
        "plt.ylabel('Predictions [MPG]')\n",
        "lims = [0, 50]\n",
        "plt.xlim(lims)\n",
        "plt.ylim(lims)\n",
        "_ = plt.plot(lims, lims)"
      ]
    }
  ],
  "metadata": {
    "colab": {
      "toc_visible": true,
      "provenance": []
    },
    "kernelspec": {
      "display_name": "Python 3",
      "name": "python3"
    }
  },
  "nbformat": 4,
  "nbformat_minor": 0
}