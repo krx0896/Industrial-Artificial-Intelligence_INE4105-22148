{
  "cells": [
    {
      "cell_type": "markdown",
      "source": [
        "\n",
        "\n",
        "---\n",
        "\n",
        "\n",
        "\n",
        "* 원본 코드: [Basic regression: Predict fuel efficiency](https://www.tensorflow.org/tutorials/keras/regression)\n",
        "* 수정자: 한양대ERICA, 산업경영공학과, 오요셉(yosepoh@hanyang.ac.kr)\n",
        "* 마지막 수정일: 2023.02.07\n",
        "\n",
        "\n",
        "---\n",
        "\n"
      ],
      "metadata": {
        "id": "BlkVQ5QX0rVG"
      }
    },
    {
      "cell_type": "markdown",
      "metadata": {
        "id": "EIdT9iu_Z4Rb"
      },
      "source": [
        "# (1) Preliminaries"
      ]
    },
    {
      "cell_type": "code",
      "source": [
        "# 데이터 시각화 패키지 Seaborn 설치\n",
        "!pip install seaborn "
      ],
      "metadata": {
        "colab": {
          "base_uri": "https://localhost:8080/"
        },
        "id": "tfNxJD2ih2Bo",
        "outputId": "a24d5ce2-4bb2-4adf-f987-bfd15047aace"
      },
      "execution_count": null,
      "outputs": [
        {
          "output_type": "stream",
          "name": "stdout",
          "text": [
            "Looking in indexes: https://pypi.org/simple, https://us-python.pkg.dev/colab-wheels/public/simple/\n",
            "Requirement already satisfied: seaborn in /usr/local/lib/python3.9/dist-packages (0.12.2)\n",
            "Requirement already satisfied: matplotlib!=3.6.1,>=3.1 in /usr/local/lib/python3.9/dist-packages (from seaborn) (3.7.1)\n",
            "Requirement already satisfied: pandas>=0.25 in /usr/local/lib/python3.9/dist-packages (from seaborn) (1.4.4)\n",
            "Requirement already satisfied: numpy!=1.24.0,>=1.17 in /usr/local/lib/python3.9/dist-packages (from seaborn) (1.22.4)\n",
            "Requirement already satisfied: packaging>=20.0 in /usr/local/lib/python3.9/dist-packages (from matplotlib!=3.6.1,>=3.1->seaborn) (23.0)\n",
            "Requirement already satisfied: python-dateutil>=2.7 in /usr/local/lib/python3.9/dist-packages (from matplotlib!=3.6.1,>=3.1->seaborn) (2.8.2)\n",
            "Requirement already satisfied: importlib-resources>=3.2.0 in /usr/local/lib/python3.9/dist-packages (from matplotlib!=3.6.1,>=3.1->seaborn) (5.12.0)\n",
            "Requirement already satisfied: pillow>=6.2.0 in /usr/local/lib/python3.9/dist-packages (from matplotlib!=3.6.1,>=3.1->seaborn) (8.4.0)\n",
            "Requirement already satisfied: pyparsing>=2.3.1 in /usr/local/lib/python3.9/dist-packages (from matplotlib!=3.6.1,>=3.1->seaborn) (3.0.9)\n",
            "Requirement already satisfied: kiwisolver>=1.0.1 in /usr/local/lib/python3.9/dist-packages (from matplotlib!=3.6.1,>=3.1->seaborn) (1.4.4)\n",
            "Requirement already satisfied: fonttools>=4.22.0 in /usr/local/lib/python3.9/dist-packages (from matplotlib!=3.6.1,>=3.1->seaborn) (4.39.2)\n",
            "Requirement already satisfied: contourpy>=1.0.1 in /usr/local/lib/python3.9/dist-packages (from matplotlib!=3.6.1,>=3.1->seaborn) (1.0.7)\n",
            "Requirement already satisfied: cycler>=0.10 in /usr/local/lib/python3.9/dist-packages (from matplotlib!=3.6.1,>=3.1->seaborn) (0.11.0)\n",
            "Requirement already satisfied: pytz>=2020.1 in /usr/local/lib/python3.9/dist-packages (from pandas>=0.25->seaborn) (2022.7.1)\n",
            "Requirement already satisfied: zipp>=3.1.0 in /usr/local/lib/python3.9/dist-packages (from importlib-resources>=3.2.0->matplotlib!=3.6.1,>=3.1->seaborn) (3.15.0)\n",
            "Requirement already satisfied: six>=1.5 in /usr/local/lib/python3.9/dist-packages (from python-dateutil>=2.7->matplotlib!=3.6.1,>=3.1->seaborn) (1.16.0)\n"
          ]
        }
      ]
    },
    {
      "cell_type": "code",
      "execution_count": null,
      "metadata": {
        "id": "moB4tpEHxKB3"
      },
      "outputs": [],
      "source": [
        "# 데이터 전처리 패키지\n",
        "import numpy as np\n",
        "import pandas as pd\n",
        "\n",
        "# 데이터 시각화 패키지\n",
        "import matplotlib.pyplot as plt \n",
        "import seaborn as sns \n",
        "\n",
        "# 머신러닝 패키지\n",
        "import tensorflow as tf \n",
        "from keras import layers "
      ]
    },
    {
      "cell_type": "markdown",
      "metadata": {
        "id": "F_72b0LCNbjx"
      },
      "source": [
        "# (2) Load the dataset "
      ]
    },
    {
      "cell_type": "code",
      "execution_count": null,
      "metadata": {
        "id": "CiX2FI4gZtTt",
        "colab": {
          "base_uri": "https://localhost:8080/",
          "height": 206
        },
        "outputId": "2b2e6105-a6a9-482b-e6b2-23c646f55ab9"
      },
      "outputs": [
        {
          "output_type": "execute_result",
          "data": {
            "text/plain": [
              "      MPG  Cylinders  Displacement  Horsepower  Weight  Acceleration  \\\n",
              "393  27.0          4         140.0        86.0  2790.0          15.6   \n",
              "394  44.0          4          97.0        52.0  2130.0          24.6   \n",
              "395  32.0          4         135.0        84.0  2295.0          11.6   \n",
              "396  28.0          4         120.0        79.0  2625.0          18.6   \n",
              "397  31.0          4         119.0        82.0  2720.0          19.4   \n",
              "\n",
              "     Model Year  Origin  \n",
              "393          82       1  \n",
              "394          82       2  \n",
              "395          82       1  \n",
              "396          82       1  \n",
              "397          82       1  "
            ],
            "text/html": [
              "\n",
              "  <div id=\"df-682fd6aa-93f6-4e35-b837-4e47e0fc1519\">\n",
              "    <div class=\"colab-df-container\">\n",
              "      <div>\n",
              "<style scoped>\n",
              "    .dataframe tbody tr th:only-of-type {\n",
              "        vertical-align: middle;\n",
              "    }\n",
              "\n",
              "    .dataframe tbody tr th {\n",
              "        vertical-align: top;\n",
              "    }\n",
              "\n",
              "    .dataframe thead th {\n",
              "        text-align: right;\n",
              "    }\n",
              "</style>\n",
              "<table border=\"1\" class=\"dataframe\">\n",
              "  <thead>\n",
              "    <tr style=\"text-align: right;\">\n",
              "      <th></th>\n",
              "      <th>MPG</th>\n",
              "      <th>Cylinders</th>\n",
              "      <th>Displacement</th>\n",
              "      <th>Horsepower</th>\n",
              "      <th>Weight</th>\n",
              "      <th>Acceleration</th>\n",
              "      <th>Model Year</th>\n",
              "      <th>Origin</th>\n",
              "    </tr>\n",
              "  </thead>\n",
              "  <tbody>\n",
              "    <tr>\n",
              "      <th>393</th>\n",
              "      <td>27.0</td>\n",
              "      <td>4</td>\n",
              "      <td>140.0</td>\n",
              "      <td>86.0</td>\n",
              "      <td>2790.0</td>\n",
              "      <td>15.6</td>\n",
              "      <td>82</td>\n",
              "      <td>1</td>\n",
              "    </tr>\n",
              "    <tr>\n",
              "      <th>394</th>\n",
              "      <td>44.0</td>\n",
              "      <td>4</td>\n",
              "      <td>97.0</td>\n",
              "      <td>52.0</td>\n",
              "      <td>2130.0</td>\n",
              "      <td>24.6</td>\n",
              "      <td>82</td>\n",
              "      <td>2</td>\n",
              "    </tr>\n",
              "    <tr>\n",
              "      <th>395</th>\n",
              "      <td>32.0</td>\n",
              "      <td>4</td>\n",
              "      <td>135.0</td>\n",
              "      <td>84.0</td>\n",
              "      <td>2295.0</td>\n",
              "      <td>11.6</td>\n",
              "      <td>82</td>\n",
              "      <td>1</td>\n",
              "    </tr>\n",
              "    <tr>\n",
              "      <th>396</th>\n",
              "      <td>28.0</td>\n",
              "      <td>4</td>\n",
              "      <td>120.0</td>\n",
              "      <td>79.0</td>\n",
              "      <td>2625.0</td>\n",
              "      <td>18.6</td>\n",
              "      <td>82</td>\n",
              "      <td>1</td>\n",
              "    </tr>\n",
              "    <tr>\n",
              "      <th>397</th>\n",
              "      <td>31.0</td>\n",
              "      <td>4</td>\n",
              "      <td>119.0</td>\n",
              "      <td>82.0</td>\n",
              "      <td>2720.0</td>\n",
              "      <td>19.4</td>\n",
              "      <td>82</td>\n",
              "      <td>1</td>\n",
              "    </tr>\n",
              "  </tbody>\n",
              "</table>\n",
              "</div>\n",
              "      <button class=\"colab-df-convert\" onclick=\"convertToInteractive('df-682fd6aa-93f6-4e35-b837-4e47e0fc1519')\"\n",
              "              title=\"Convert this dataframe to an interactive table.\"\n",
              "              style=\"display:none;\">\n",
              "        \n",
              "  <svg xmlns=\"http://www.w3.org/2000/svg\" height=\"24px\"viewBox=\"0 0 24 24\"\n",
              "       width=\"24px\">\n",
              "    <path d=\"M0 0h24v24H0V0z\" fill=\"none\"/>\n",
              "    <path d=\"M18.56 5.44l.94 2.06.94-2.06 2.06-.94-2.06-.94-.94-2.06-.94 2.06-2.06.94zm-11 1L8.5 8.5l.94-2.06 2.06-.94-2.06-.94L8.5 2.5l-.94 2.06-2.06.94zm10 10l.94 2.06.94-2.06 2.06-.94-2.06-.94-.94-2.06-.94 2.06-2.06.94z\"/><path d=\"M17.41 7.96l-1.37-1.37c-.4-.4-.92-.59-1.43-.59-.52 0-1.04.2-1.43.59L10.3 9.45l-7.72 7.72c-.78.78-.78 2.05 0 2.83L4 21.41c.39.39.9.59 1.41.59.51 0 1.02-.2 1.41-.59l7.78-7.78 2.81-2.81c.8-.78.8-2.07 0-2.86zM5.41 20L4 18.59l7.72-7.72 1.47 1.35L5.41 20z\"/>\n",
              "  </svg>\n",
              "      </button>\n",
              "      \n",
              "  <style>\n",
              "    .colab-df-container {\n",
              "      display:flex;\n",
              "      flex-wrap:wrap;\n",
              "      gap: 12px;\n",
              "    }\n",
              "\n",
              "    .colab-df-convert {\n",
              "      background-color: #E8F0FE;\n",
              "      border: none;\n",
              "      border-radius: 50%;\n",
              "      cursor: pointer;\n",
              "      display: none;\n",
              "      fill: #1967D2;\n",
              "      height: 32px;\n",
              "      padding: 0 0 0 0;\n",
              "      width: 32px;\n",
              "    }\n",
              "\n",
              "    .colab-df-convert:hover {\n",
              "      background-color: #E2EBFA;\n",
              "      box-shadow: 0px 1px 2px rgba(60, 64, 67, 0.3), 0px 1px 3px 1px rgba(60, 64, 67, 0.15);\n",
              "      fill: #174EA6;\n",
              "    }\n",
              "\n",
              "    [theme=dark] .colab-df-convert {\n",
              "      background-color: #3B4455;\n",
              "      fill: #D2E3FC;\n",
              "    }\n",
              "\n",
              "    [theme=dark] .colab-df-convert:hover {\n",
              "      background-color: #434B5C;\n",
              "      box-shadow: 0px 1px 3px 1px rgba(0, 0, 0, 0.15);\n",
              "      filter: drop-shadow(0px 1px 2px rgba(0, 0, 0, 0.3));\n",
              "      fill: #FFFFFF;\n",
              "    }\n",
              "  </style>\n",
              "\n",
              "      <script>\n",
              "        const buttonEl =\n",
              "          document.querySelector('#df-682fd6aa-93f6-4e35-b837-4e47e0fc1519 button.colab-df-convert');\n",
              "        buttonEl.style.display =\n",
              "          google.colab.kernel.accessAllowed ? 'block' : 'none';\n",
              "\n",
              "        async function convertToInteractive(key) {\n",
              "          const element = document.querySelector('#df-682fd6aa-93f6-4e35-b837-4e47e0fc1519');\n",
              "          const dataTable =\n",
              "            await google.colab.kernel.invokeFunction('convertToInteractive',\n",
              "                                                     [key], {});\n",
              "          if (!dataTable) return;\n",
              "\n",
              "          const docLinkHtml = 'Like what you see? Visit the ' +\n",
              "            '<a target=\"_blank\" href=https://colab.research.google.com/notebooks/data_table.ipynb>data table notebook</a>'\n",
              "            + ' to learn more about interactive tables.';\n",
              "          element.innerHTML = '';\n",
              "          dataTable['output_type'] = 'display_data';\n",
              "          await google.colab.output.renderOutput(dataTable, element);\n",
              "          const docLink = document.createElement('div');\n",
              "          docLink.innerHTML = docLinkHtml;\n",
              "          element.appendChild(docLink);\n",
              "        }\n",
              "      </script>\n",
              "    </div>\n",
              "  </div>\n",
              "  "
            ]
          },
          "metadata": {},
          "execution_count": 2
        }
      ],
      "source": [
        "# 데이터셋 다운로드 및 데이터프레임에 저장\n",
        "url = 'http://archive.ics.uci.edu/ml/machine-learning-databases/auto-mpg/auto-mpg.data'\n",
        "column_names = ['MPG', 'Cylinders', 'Displacement', 'Horsepower', 'Weight', 'Acceleration', 'Model Year', 'Origin']\n",
        "raw_dataset = pd.read_csv(url, names=column_names, na_values='?', comment='\\t', sep=' ',  skipinitialspace=True)\n",
        "\n",
        "# 데이터 전처리\n",
        "dataset = raw_dataset.copy()\n",
        "dataset.isna().sum()\n",
        "dataset = dataset.dropna()  \n",
        "\n",
        "dataset.tail()"
      ]
    },
    {
      "cell_type": "code",
      "execution_count": null,
      "metadata": {
        "id": "gWNTD2QjBWFJ",
        "colab": {
          "base_uri": "https://localhost:8080/",
          "height": 206
        },
        "outputId": "a6f3b4a2-82a9-475e-8064-e801482884db"
      },
      "outputs": [
        {
          "output_type": "execute_result",
          "data": {
            "text/plain": [
              "      MPG  Cylinders  Displacement  Horsepower  Weight  Acceleration  \\\n",
              "393  27.0          4         140.0        86.0  2790.0          15.6   \n",
              "394  44.0          4          97.0        52.0  2130.0          24.6   \n",
              "395  32.0          4         135.0        84.0  2295.0          11.6   \n",
              "396  28.0          4         120.0        79.0  2625.0          18.6   \n",
              "397  31.0          4         119.0        82.0  2720.0          19.4   \n",
              "\n",
              "     Model Year  Europe  Japan  USA  \n",
              "393          82       0      0    1  \n",
              "394          82       1      0    0  \n",
              "395          82       0      0    1  \n",
              "396          82       0      0    1  \n",
              "397          82       0      0    1  "
            ],
            "text/html": [
              "\n",
              "  <div id=\"df-2d6c467f-fd09-44ca-8c16-b17d2e8e05b9\">\n",
              "    <div class=\"colab-df-container\">\n",
              "      <div>\n",
              "<style scoped>\n",
              "    .dataframe tbody tr th:only-of-type {\n",
              "        vertical-align: middle;\n",
              "    }\n",
              "\n",
              "    .dataframe tbody tr th {\n",
              "        vertical-align: top;\n",
              "    }\n",
              "\n",
              "    .dataframe thead th {\n",
              "        text-align: right;\n",
              "    }\n",
              "</style>\n",
              "<table border=\"1\" class=\"dataframe\">\n",
              "  <thead>\n",
              "    <tr style=\"text-align: right;\">\n",
              "      <th></th>\n",
              "      <th>MPG</th>\n",
              "      <th>Cylinders</th>\n",
              "      <th>Displacement</th>\n",
              "      <th>Horsepower</th>\n",
              "      <th>Weight</th>\n",
              "      <th>Acceleration</th>\n",
              "      <th>Model Year</th>\n",
              "      <th>Europe</th>\n",
              "      <th>Japan</th>\n",
              "      <th>USA</th>\n",
              "    </tr>\n",
              "  </thead>\n",
              "  <tbody>\n",
              "    <tr>\n",
              "      <th>393</th>\n",
              "      <td>27.0</td>\n",
              "      <td>4</td>\n",
              "      <td>140.0</td>\n",
              "      <td>86.0</td>\n",
              "      <td>2790.0</td>\n",
              "      <td>15.6</td>\n",
              "      <td>82</td>\n",
              "      <td>0</td>\n",
              "      <td>0</td>\n",
              "      <td>1</td>\n",
              "    </tr>\n",
              "    <tr>\n",
              "      <th>394</th>\n",
              "      <td>44.0</td>\n",
              "      <td>4</td>\n",
              "      <td>97.0</td>\n",
              "      <td>52.0</td>\n",
              "      <td>2130.0</td>\n",
              "      <td>24.6</td>\n",
              "      <td>82</td>\n",
              "      <td>1</td>\n",
              "      <td>0</td>\n",
              "      <td>0</td>\n",
              "    </tr>\n",
              "    <tr>\n",
              "      <th>395</th>\n",
              "      <td>32.0</td>\n",
              "      <td>4</td>\n",
              "      <td>135.0</td>\n",
              "      <td>84.0</td>\n",
              "      <td>2295.0</td>\n",
              "      <td>11.6</td>\n",
              "      <td>82</td>\n",
              "      <td>0</td>\n",
              "      <td>0</td>\n",
              "      <td>1</td>\n",
              "    </tr>\n",
              "    <tr>\n",
              "      <th>396</th>\n",
              "      <td>28.0</td>\n",
              "      <td>4</td>\n",
              "      <td>120.0</td>\n",
              "      <td>79.0</td>\n",
              "      <td>2625.0</td>\n",
              "      <td>18.6</td>\n",
              "      <td>82</td>\n",
              "      <td>0</td>\n",
              "      <td>0</td>\n",
              "      <td>1</td>\n",
              "    </tr>\n",
              "    <tr>\n",
              "      <th>397</th>\n",
              "      <td>31.0</td>\n",
              "      <td>4</td>\n",
              "      <td>119.0</td>\n",
              "      <td>82.0</td>\n",
              "      <td>2720.0</td>\n",
              "      <td>19.4</td>\n",
              "      <td>82</td>\n",
              "      <td>0</td>\n",
              "      <td>0</td>\n",
              "      <td>1</td>\n",
              "    </tr>\n",
              "  </tbody>\n",
              "</table>\n",
              "</div>\n",
              "      <button class=\"colab-df-convert\" onclick=\"convertToInteractive('df-2d6c467f-fd09-44ca-8c16-b17d2e8e05b9')\"\n",
              "              title=\"Convert this dataframe to an interactive table.\"\n",
              "              style=\"display:none;\">\n",
              "        \n",
              "  <svg xmlns=\"http://www.w3.org/2000/svg\" height=\"24px\"viewBox=\"0 0 24 24\"\n",
              "       width=\"24px\">\n",
              "    <path d=\"M0 0h24v24H0V0z\" fill=\"none\"/>\n",
              "    <path d=\"M18.56 5.44l.94 2.06.94-2.06 2.06-.94-2.06-.94-.94-2.06-.94 2.06-2.06.94zm-11 1L8.5 8.5l.94-2.06 2.06-.94-2.06-.94L8.5 2.5l-.94 2.06-2.06.94zm10 10l.94 2.06.94-2.06 2.06-.94-2.06-.94-.94-2.06-.94 2.06-2.06.94z\"/><path d=\"M17.41 7.96l-1.37-1.37c-.4-.4-.92-.59-1.43-.59-.52 0-1.04.2-1.43.59L10.3 9.45l-7.72 7.72c-.78.78-.78 2.05 0 2.83L4 21.41c.39.39.9.59 1.41.59.51 0 1.02-.2 1.41-.59l7.78-7.78 2.81-2.81c.8-.78.8-2.07 0-2.86zM5.41 20L4 18.59l7.72-7.72 1.47 1.35L5.41 20z\"/>\n",
              "  </svg>\n",
              "      </button>\n",
              "      \n",
              "  <style>\n",
              "    .colab-df-container {\n",
              "      display:flex;\n",
              "      flex-wrap:wrap;\n",
              "      gap: 12px;\n",
              "    }\n",
              "\n",
              "    .colab-df-convert {\n",
              "      background-color: #E8F0FE;\n",
              "      border: none;\n",
              "      border-radius: 50%;\n",
              "      cursor: pointer;\n",
              "      display: none;\n",
              "      fill: #1967D2;\n",
              "      height: 32px;\n",
              "      padding: 0 0 0 0;\n",
              "      width: 32px;\n",
              "    }\n",
              "\n",
              "    .colab-df-convert:hover {\n",
              "      background-color: #E2EBFA;\n",
              "      box-shadow: 0px 1px 2px rgba(60, 64, 67, 0.3), 0px 1px 3px 1px rgba(60, 64, 67, 0.15);\n",
              "      fill: #174EA6;\n",
              "    }\n",
              "\n",
              "    [theme=dark] .colab-df-convert {\n",
              "      background-color: #3B4455;\n",
              "      fill: #D2E3FC;\n",
              "    }\n",
              "\n",
              "    [theme=dark] .colab-df-convert:hover {\n",
              "      background-color: #434B5C;\n",
              "      box-shadow: 0px 1px 3px 1px rgba(0, 0, 0, 0.15);\n",
              "      filter: drop-shadow(0px 1px 2px rgba(0, 0, 0, 0.3));\n",
              "      fill: #FFFFFF;\n",
              "    }\n",
              "  </style>\n",
              "\n",
              "      <script>\n",
              "        const buttonEl =\n",
              "          document.querySelector('#df-2d6c467f-fd09-44ca-8c16-b17d2e8e05b9 button.colab-df-convert');\n",
              "        buttonEl.style.display =\n",
              "          google.colab.kernel.accessAllowed ? 'block' : 'none';\n",
              "\n",
              "        async function convertToInteractive(key) {\n",
              "          const element = document.querySelector('#df-2d6c467f-fd09-44ca-8c16-b17d2e8e05b9');\n",
              "          const dataTable =\n",
              "            await google.colab.kernel.invokeFunction('convertToInteractive',\n",
              "                                                     [key], {});\n",
              "          if (!dataTable) return;\n",
              "\n",
              "          const docLinkHtml = 'Like what you see? Visit the ' +\n",
              "            '<a target=\"_blank\" href=https://colab.research.google.com/notebooks/data_table.ipynb>data table notebook</a>'\n",
              "            + ' to learn more about interactive tables.';\n",
              "          element.innerHTML = '';\n",
              "          dataTable['output_type'] = 'display_data';\n",
              "          await google.colab.output.renderOutput(dataTable, element);\n",
              "          const docLink = document.createElement('div');\n",
              "          docLink.innerHTML = docLinkHtml;\n",
              "          element.appendChild(docLink);\n",
              "        }\n",
              "      </script>\n",
              "    </div>\n",
              "  </div>\n",
              "  "
            ]
          },
          "metadata": {},
          "execution_count": 3
        }
      ],
      "source": [
        "# 원-핫 인코딩(One-Hot Encoding)\n",
        "dataset['Origin'] = dataset['Origin'].map({1: 'USA', 2: 'Europe', 3: 'Japan'})\n",
        "dataset = pd.get_dummies(dataset, columns=['Origin'], prefix='', prefix_sep='')\n",
        "\n",
        "dataset.tail()"
      ]
    },
    {
      "cell_type": "code",
      "execution_count": null,
      "metadata": {
        "id": "qn-IGhUE7_1H",
        "colab": {
          "base_uri": "https://localhost:8080/"
        },
        "outputId": "5adbf70b-b6b4-4d75-e290-72ddaee2394c"
      },
      "outputs": [
        {
          "output_type": "stream",
          "name": "stdout",
          "text": [
            "314\n",
            "78\n"
          ]
        }
      ],
      "source": [
        "# 데이터를 훈련 세트와 테스트 세트로 분할\n",
        "train_dataset = dataset.sample(frac=0.8, random_state=0)\n",
        "test_dataset = dataset.drop(train_dataset.index)\n",
        "\n",
        "# 입력변수(X)와 출력변수(y) 구분\n",
        "train_X = train_dataset.copy()\n",
        "test_X = test_dataset.copy()\n",
        "train_y = train_X.pop('MPG')\n",
        "test_y = test_X.pop('MPG')\n",
        "\n",
        "# 훈련 세트와 테스트 세트가 잘 분할되었는지 확인\n",
        "print(len(train_X))\n",
        "print(len(test_X))"
      ]
    },
    {
      "cell_type": "code",
      "execution_count": null,
      "metadata": {
        "id": "oRKO_x8gWKv-",
        "colab": {
          "base_uri": "https://localhost:8080/",
          "height": 744
        },
        "outputId": "a6d1f352-7272-4c26-ee01-155d913febae"
      },
      "outputs": [
        {
          "output_type": "execute_result",
          "data": {
            "text/plain": [
              "<seaborn.axisgrid.PairGrid at 0x7fb4dfca7d60>"
            ]
          },
          "metadata": {},
          "execution_count": 5
        },
        {
          "output_type": "display_data",
          "data": {
            "text/plain": [
              "<Figure size 720x720 with 20 Axes>"
            ],
            "image/png": "[encoded data removed]"
          },
          "metadata": {
            "needs_background": "light"
          }
        }
      ],
      "source": [
        "# 데이터 시각화를 통한 변수간 관계 파악\n",
        "sns.pairplot(train_dataset[['MPG', 'Cylinders', 'Displacement', 'Weight']], diag_kind='kde')"
      ]
    },
    {
      "cell_type": "code",
      "execution_count": null,
      "metadata": {
        "id": "yi2FzC3T21jR",
        "colab": {
          "base_uri": "https://localhost:8080/",
          "height": 363
        },
        "outputId": "cda70f14-dee4-4648-d443-0a6a16914bcc"
      },
      "outputs": [
        {
          "output_type": "execute_result",
          "data": {
            "text/plain": [
              "              count         mean         std     min      25%     50%  \\\n",
              "MPG           314.0    23.310510    7.728652    10.0    17.00    22.0   \n",
              "Cylinders     314.0     5.477707    1.699788     3.0     4.00     4.0   \n",
              "Displacement  314.0   195.318471  104.331589    68.0   105.50   151.0   \n",
              "Horsepower    314.0   104.869427   38.096214    46.0    76.25    94.5   \n",
              "Weight        314.0  2990.251592  843.898596  1649.0  2256.50  2822.5   \n",
              "Acceleration  314.0    15.559236    2.789230     8.0    13.80    15.5   \n",
              "Model Year    314.0    75.898089    3.675642    70.0    73.00    76.0   \n",
              "Europe        314.0     0.178344    0.383413     0.0     0.00     0.0   \n",
              "Japan         314.0     0.197452    0.398712     0.0     0.00     0.0   \n",
              "USA           314.0     0.624204    0.485101     0.0     0.00     1.0   \n",
              "\n",
              "                  75%     max  \n",
              "MPG             28.95    46.6  \n",
              "Cylinders        8.00     8.0  \n",
              "Displacement   265.75   455.0  \n",
              "Horsepower     128.00   225.0  \n",
              "Weight        3608.00  5140.0  \n",
              "Acceleration    17.20    24.8  \n",
              "Model Year      79.00    82.0  \n",
              "Europe           0.00     1.0  \n",
              "Japan            0.00     1.0  \n",
              "USA              1.00     1.0  "
            ],
            "text/html": [
              "\n",
              "  <div id=\"df-5f46ba96-201a-4c5a-8d10-91cc9ca23bb4\">\n",
              "    <div class=\"colab-df-container\">\n",
              "      <div>\n",
              "<style scoped>\n",
              "    .dataframe tbody tr th:only-of-type {\n",
              "        vertical-align: middle;\n",
              "    }\n",
              "\n",
              "    .dataframe tbody tr th {\n",
              "        vertical-align: top;\n",
              "    }\n",
              "\n",
              "    .dataframe thead th {\n",
              "        text-align: right;\n",
              "    }\n",
              "</style>\n",
              "<table border=\"1\" class=\"dataframe\">\n",
              "  <thead>\n",
              "    <tr style=\"text-align: right;\">\n",
              "      <th></th>\n",
              "      <th>count</th>\n",
              "      <th>mean</th>\n",
              "      <th>std</th>\n",
              "      <th>min</th>\n",
              "      <th>25%</th>\n",
              "      <th>50%</th>\n",
              "      <th>75%</th>\n",
              "      <th>max</th>\n",
              "    </tr>\n",
              "  </thead>\n",
              "  <tbody>\n",
              "    <tr>\n",
              "      <th>MPG</th>\n",
              "      <td>314.0</td>\n",
              "      <td>23.310510</td>\n",
              "      <td>7.728652</td>\n",
              "      <td>10.0</td>\n",
              "      <td>17.00</td>\n",
              "      <td>22.0</td>\n",
              "      <td>28.95</td>\n",
              "      <td>46.6</td>\n",
              "    </tr>\n",
              "    <tr>\n",
              "      <th>Cylinders</th>\n",
              "      <td>314.0</td>\n",
              "      <td>5.477707</td>\n",
              "      <td>1.699788</td>\n",
              "      <td>3.0</td>\n",
              "      <td>4.00</td>\n",
              "      <td>4.0</td>\n",
              "      <td>8.00</td>\n",
              "      <td>8.0</td>\n",
              "    </tr>\n",
              "    <tr>\n",
              "      <th>Displacement</th>\n",
              "      <td>314.0</td>\n",
              "      <td>195.318471</td>\n",
              "      <td>104.331589</td>\n",
              "      <td>68.0</td>\n",
              "      <td>105.50</td>\n",
              "      <td>151.0</td>\n",
              "      <td>265.75</td>\n",
              "      <td>455.0</td>\n",
              "    </tr>\n",
              "    <tr>\n",
              "      <th>Horsepower</th>\n",
              "      <td>314.0</td>\n",
              "      <td>104.869427</td>\n",
              "      <td>38.096214</td>\n",
              "      <td>46.0</td>\n",
              "      <td>76.25</td>\n",
              "      <td>94.5</td>\n",
              "      <td>128.00</td>\n",
              "      <td>225.0</td>\n",
              "    </tr>\n",
              "    <tr>\n",
              "      <th>Weight</th>\n",
              "      <td>314.0</td>\n",
              "      <td>2990.251592</td>\n",
              "      <td>843.898596</td>\n",
              "      <td>1649.0</td>\n",
              "      <td>2256.50</td>\n",
              "      <td>2822.5</td>\n",
              "      <td>3608.00</td>\n",
              "      <td>5140.0</td>\n",
              "    </tr>\n",
              "    <tr>\n",
              "      <th>Acceleration</th>\n",
              "      <td>314.0</td>\n",
              "      <td>15.559236</td>\n",
              "      <td>2.789230</td>\n",
              "      <td>8.0</td>\n",
              "      <td>13.80</td>\n",
              "      <td>15.5</td>\n",
              "      <td>17.20</td>\n",
              "      <td>24.8</td>\n",
              "    </tr>\n",
              "    <tr>\n",
              "      <th>Model Year</th>\n",
              "      <td>314.0</td>\n",
              "      <td>75.898089</td>\n",
              "      <td>3.675642</td>\n",
              "      <td>70.0</td>\n",
              "      <td>73.00</td>\n",
              "      <td>76.0</td>\n",
              "      <td>79.00</td>\n",
              "      <td>82.0</td>\n",
              "    </tr>\n",
              "    <tr>\n",
              "      <th>Europe</th>\n",
              "      <td>314.0</td>\n",
              "      <td>0.178344</td>\n",
              "      <td>0.383413</td>\n",
              "      <td>0.0</td>\n",
              "      <td>0.00</td>\n",
              "      <td>0.0</td>\n",
              "      <td>0.00</td>\n",
              "      <td>1.0</td>\n",
              "    </tr>\n",
              "    <tr>\n",
              "      <th>Japan</th>\n",
              "      <td>314.0</td>\n",
              "      <td>0.197452</td>\n",
              "      <td>0.398712</td>\n",
              "      <td>0.0</td>\n",
              "      <td>0.00</td>\n",
              "      <td>0.0</td>\n",
              "      <td>0.00</td>\n",
              "      <td>1.0</td>\n",
              "    </tr>\n",
              "    <tr>\n",
              "      <th>USA</th>\n",
              "      <td>314.0</td>\n",
              "      <td>0.624204</td>\n",
              "      <td>0.485101</td>\n",
              "      <td>0.0</td>\n",
              "      <td>0.00</td>\n",
              "      <td>1.0</td>\n",
              "      <td>1.00</td>\n",
              "      <td>1.0</td>\n",
              "    </tr>\n",
              "  </tbody>\n",
              "</table>\n",
              "</div>\n",
              "      <button class=\"colab-df-convert\" onclick=\"convertToInteractive('df-5f46ba96-201a-4c5a-8d10-91cc9ca23bb4')\"\n",
              "              title=\"Convert this dataframe to an interactive table.\"\n",
              "              style=\"display:none;\">\n",
              "        \n",
              "  <svg xmlns=\"http://www.w3.org/2000/svg\" height=\"24px\"viewBox=\"0 0 24 24\"\n",
              "       width=\"24px\">\n",
              "    <path d=\"M0 0h24v24H0V0z\" fill=\"none\"/>\n",
              "    <path d=\"M18.56 5.44l.94 2.06.94-2.06 2.06-.94-2.06-.94-.94-2.06-.94 2.06-2.06.94zm-11 1L8.5 8.5l.94-2.06 2.06-.94-2.06-.94L8.5 2.5l-.94 2.06-2.06.94zm10 10l.94 2.06.94-2.06 2.06-.94-2.06-.94-.94-2.06-.94 2.06-2.06.94z\"/><path d=\"M17.41 7.96l-1.37-1.37c-.4-.4-.92-.59-1.43-.59-.52 0-1.04.2-1.43.59L10.3 9.45l-7.72 7.72c-.78.78-.78 2.05 0 2.83L4 21.41c.39.39.9.59 1.41.59.51 0 1.02-.2 1.41-.59l7.78-7.78 2.81-2.81c.8-.78.8-2.07 0-2.86zM5.41 20L4 18.59l7.72-7.72 1.47 1.35L5.41 20z\"/>\n",
              "  </svg>\n",
              "      </button>\n",
              "      \n",
              "  <style>\n",
              "    .colab-df-container {\n",
              "      display:flex;\n",
              "      flex-wrap:wrap;\n",
              "      gap: 12px;\n",
              "    }\n",
              "\n",
              "    .colab-df-convert {\n",
              "      background-color: #E8F0FE;\n",
              "      border: none;\n",
              "      border-radius: 50%;\n",
              "      cursor: pointer;\n",
              "      display: none;\n",
              "      fill: #1967D2;\n",
              "      height: 32px;\n",
              "      padding: 0 0 0 0;\n",
              "      width: 32px;\n",
              "    }\n",
              "\n",
              "    .colab-df-convert:hover {\n",
              "      background-color: #E2EBFA;\n",
              "      box-shadow: 0px 1px 2px rgba(60, 64, 67, 0.3), 0px 1px 3px 1px rgba(60, 64, 67, 0.15);\n",
              "      fill: #174EA6;\n",
              "    }\n",
              "\n",
              "    [theme=dark] .colab-df-convert {\n",
              "      background-color: #3B4455;\n",
              "      fill: #D2E3FC;\n",
              "    }\n",
              "\n",
              "    [theme=dark] .colab-df-convert:hover {\n",
              "      background-color: #434B5C;\n",
              "      box-shadow: 0px 1px 3px 1px rgba(0, 0, 0, 0.15);\n",
              "      filter: drop-shadow(0px 1px 2px rgba(0, 0, 0, 0.3));\n",
              "      fill: #FFFFFF;\n",
              "    }\n",
              "  </style>\n",
              "\n",
              "      <script>\n",
              "        const buttonEl =\n",
              "          document.querySelector('#df-5f46ba96-201a-4c5a-8d10-91cc9ca23bb4 button.colab-df-convert');\n",
              "        buttonEl.style.display =\n",
              "          google.colab.kernel.accessAllowed ? 'block' : 'none';\n",
              "\n",
              "        async function convertToInteractive(key) {\n",
              "          const element = document.querySelector('#df-5f46ba96-201a-4c5a-8d10-91cc9ca23bb4');\n",
              "          const dataTable =\n",
              "            await google.colab.kernel.invokeFunction('convertToInteractive',\n",
              "                                                     [key], {});\n",
              "          if (!dataTable) return;\n",
              "\n",
              "          const docLinkHtml = 'Like what you see? Visit the ' +\n",
              "            '<a target=\"_blank\" href=https://colab.research.google.com/notebooks/data_table.ipynb>data table notebook</a>'\n",
              "            + ' to learn more about interactive tables.';\n",
              "          element.innerHTML = '';\n",
              "          dataTable['output_type'] = 'display_data';\n",
              "          await google.colab.output.renderOutput(dataTable, element);\n",
              "          const docLink = document.createElement('div');\n",
              "          docLink.innerHTML = docLinkHtml;\n",
              "          element.appendChild(docLink);\n",
              "        }\n",
              "      </script>\n",
              "    </div>\n",
              "  </div>\n",
              "  "
            ]
          },
          "metadata": {},
          "execution_count": 9
        }
      ],
      "source": [
        "# 기초 통계를 통한 데이터 특성 파악\n",
        "# .transpose()는 .T임 -> 행열 변환\n",
        "train_dataset.describe().transpose()"
      ]
    },
    {
      "cell_type": "code",
      "execution_count": null,
      "metadata": {
        "id": "JlC5ooJrgjQF",
        "colab": {
          "base_uri": "https://localhost:8080/"
        },
        "outputId": "efa8c4b0-9533-4d46-86f6-f7056b766790"
      },
      "outputs": [
        {
          "output_type": "stream",
          "name": "stdout",
          "text": [
            "[[5.47770691e+00 1.95318497e+02 1.04869446e+02 2.99025171e+03\n",
            "  1.55592356e+01 7.58980942e+01 1.78343967e-01 1.97452217e-01\n",
            "  6.24203861e-01]]\n",
            "[[2.8800766e+00 1.0850413e+04 1.4466993e+03 7.0989688e+05 7.7550268e+00\n",
            "  1.3467321e+01 1.4653738e-01 1.5846483e-01 2.3457341e-01]]\n",
            "First example: [[   4.    90.    75.  2125.    14.5   74.     0.     0.     1. ]]\n",
            "Normalized: [[-0.87 -1.01 -0.79 -1.03 -0.38 -0.52 -0.47 -0.5   0.78]]\n"
          ]
        }
      ],
      "source": [
        "# 9개 입력변수에 대한 mean, variance 계산 => Z-score normalization (이하 normalization) 준비 \n",
        "input_layer = tf.keras.layers.Normalization() \n",
        "input_layer.adapt(np.array(train_X))  \n",
        "print(input_layer.mean.numpy())\n",
        "print(input_layer.variance.numpy())\n",
        " \n",
        "# Normalization이 잘 되는지 확인\n",
        "first = np.array(train_X[:1])\n",
        "with np.printoptions(precision=2, suppress=True):\n",
        "  # 9개 입력변수에 대한 첫 번째 레코드 값 출력 \n",
        "  print('First example:', first) \n",
        "  # 첫 번째 레코드 값들이 normalization된 결과 출력\n",
        "  print('Normalized:', input_layer(first).numpy())"
      ]
    },
    {
      "cell_type": "markdown",
      "source": [
        "# Simple linear regression (단순 선형 회귀)"
      ],
      "metadata": {
        "id": "lOC12xnnPjzH"
      }
    },
    {
      "cell_type": "markdown",
      "metadata": {
        "id": "6o3CrycBXA2s"
      },
      "source": [
        "## (3) Build the model"
      ]
    },
    {
      "cell_type": "code",
      "execution_count": null,
      "metadata": {
        "id": "1gJAy0fKs1TS",
        "colab": {
          "base_uri": "https://localhost:8080/"
        },
        "outputId": "21fcf1c5-d2b3-4450-bf8d-8e6d1b3e438d"
      },
      "outputs": [
        {
          "output_type": "stream",
          "name": "stdout",
          "text": [
            "Model: \"sequential\"\n",
            "_________________________________________________________________\n",
            " Layer (type)                Output Shape              Param #   \n",
            "=================================================================\n",
            " normalization_1 (Normalizat  (None, 1)                3         \n",
            " ion)                                                            \n",
            "                                                                 \n",
            " dense (Dense)               (None, 1)                 2         \n",
            "                                                                 \n",
            "=================================================================\n",
            "Total params: 5\n",
            "Trainable params: 2\n",
            "Non-trainable params: 3\n",
            "_________________________________________________________________\n"
          ]
        }
      ],
      "source": [
        "# 하나의 입력변수만 추출\n",
        "horsepower = np.array(train_X['Horsepower'])\n",
        "\n",
        "# 해당 입력변수에 대한 normalization layer 생성\n",
        "# keras에서 제공하는 Normalization을 사용하면 Normalization 이후 .adapt()를 사용하여 다시 넣어주는 함수임 -> 세트로 쓰는 느낌이라고 생각하면 편함\n",
        "input_layer_horsepower = layers.Normalization(input_shape=[1,], axis=None)\n",
        "input_layer_horsepower.adapt(horsepower)  \n",
        "\n",
        "# Simple linear regression 모델 생성\n",
        "horsepower_model = tf.keras.Sequential([\n",
        "    input_layer_horsepower,\n",
        "    layers.Dense(units=1)\n",
        "])\n",
        "\n",
        "# 모델 구조 확인\n",
        "horsepower_model.summary()"
      ]
    },
    {
      "cell_type": "code",
      "source": [
        "# 단일 입력변수(x)와 출력변수(y) 데이터를 시각화하기 위한 함수 정의\n",
        "def plot_horsepower(x, y):\n",
        "  plt.scatter(train_X['Horsepower'], train_y, label='Data')\n",
        "  plt.plot(x, y, color='k', label='Predictions')\n",
        "  plt.xlabel('Horsepower')\n",
        "  plt.ylabel('MPG')\n",
        "  plt.legend()\n",
        "\n",
        "# 현재의 선형 모델(학습 전)\n",
        "x = tf.linspace(0.0, 250, 251)\n",
        "y = horsepower_model.predict(x)\n",
        "\n",
        "plot_horsepower(x, y)"
      ],
      "metadata": {
        "colab": {
          "base_uri": "https://localhost:8080/",
          "height": 297
        },
        "id": "n6OvyjkHEjFu",
        "outputId": "f97dd97b-bad3-4bcb-d34a-e6d801b965c1"
      },
      "execution_count": null,
      "outputs": [
        {
          "output_type": "stream",
          "name": "stdout",
          "text": [
            "8/8 [==============================] - 0s 3ms/step\n"
          ]
        },
        {
          "output_type": "display_data",
          "data": {
            "text/plain": [
              "<Figure size 432x288 with 1 Axes>"
            ],
            "image/png": "[encoded data removed]"
          },
          "metadata": {
            "needs_background": "light"
          }
        }
      ]
    },
    {
      "cell_type": "code",
      "execution_count": null,
      "metadata": {
        "id": "JxA_3lpOm-SK"
      },
      "outputs": [],
      "source": [
        "# 최적화 방법 정의\n",
        "horsepower_model.compile(\n",
        "    optimizer=tf.keras.optimizers.Adam(learning_rate=0.1),\n",
        "    loss='mean_absolute_error')"
      ]
    },
    {
      "cell_type": "markdown",
      "source": [
        "## (4) Training"
      ],
      "metadata": {
        "id": "t1l86VjxPKD0"
      }
    },
    {
      "cell_type": "code",
      "execution_count": null,
      "metadata": {
        "id": "-iSrNy59nRAp",
        "colab": {
          "base_uri": "https://localhost:8080/"
        },
        "outputId": "b63cc73e-e892-4be7-bb6a-bfa72181c0c7"
      },
      "outputs": [
        {
          "output_type": "stream",
          "name": "stdout",
          "text": [
            "Epoch 1/100\n",
            "8/8 [==============================] - 1s 28ms/step - loss: 22.8691 - val_loss: 22.9409\n",
            "Epoch 2/100\n",
            "8/8 [==============================] - 0s 6ms/step - loss: 22.0620 - val_loss: 22.1410\n",
            "Epoch 3/100\n",
            "8/8 [==============================] - 0s 9ms/step - loss: 21.2664 - val_loss: 21.3404\n",
            "Epoch 4/100\n",
            "8/8 [==============================] - 0s 7ms/step - loss: 20.4628 - val_loss: 20.5407\n",
            "Epoch 5/100\n",
            "8/8 [==============================] - 0s 10ms/step - loss: 19.6612 - val_loss: 19.7405\n",
            "Epoch 6/100\n",
            "8/8 [==============================] - 0s 6ms/step - loss: 18.8610 - val_loss: 18.9405\n",
            "Epoch 7/100\n",
            "8/8 [==============================] - 0s 7ms/step - loss: 18.0608 - val_loss: 18.1407\n",
            "Epoch 8/100\n",
            "8/8 [==============================] - 0s 7ms/step - loss: 17.2775 - val_loss: 17.3645\n",
            "Epoch 9/100\n",
            "8/8 [==============================] - 0s 9ms/step - loss: 16.4916 - val_loss: 16.5828\n",
            "Epoch 10/100\n",
            "8/8 [==============================] - 0s 9ms/step - loss: 15.7107 - val_loss: 15.7881\n",
            "Epoch 11/100\n",
            "8/8 [==============================] - 0s 6ms/step - loss: 14.9248 - val_loss: 14.9944\n",
            "Epoch 12/100\n",
            "8/8 [==============================] - 0s 6ms/step - loss: 14.1320 - val_loss: 14.2153\n",
            "Epoch 13/100\n",
            "8/8 [==============================] - 0s 7ms/step - loss: 13.3482 - val_loss: 13.4271\n",
            "Epoch 14/100\n",
            "8/8 [==============================] - 0s 9ms/step - loss: 12.5631 - val_loss: 12.6416\n",
            "Epoch 15/100\n",
            "8/8 [==============================] - 0s 7ms/step - loss: 11.7803 - val_loss: 11.8503\n",
            "Epoch 16/100\n",
            "8/8 [==============================] - 0s 9ms/step - loss: 10.9954 - val_loss: 11.0663\n",
            "Epoch 17/100\n",
            "8/8 [==============================] - 0s 8ms/step - loss: 10.2055 - val_loss: 10.2890\n",
            "Epoch 18/100\n",
            "8/8 [==============================] - 0s 7ms/step - loss: 9.4410 - val_loss: 9.5077\n",
            "Epoch 19/100\n",
            "8/8 [==============================] - 0s 9ms/step - loss: 8.6869 - val_loss: 8.7467\n",
            "Epoch 20/100\n",
            "8/8 [==============================] - 0s 7ms/step - loss: 7.9729 - val_loss: 8.0021\n",
            "Epoch 21/100\n",
            "8/8 [==============================] - 0s 6ms/step - loss: 7.2725 - val_loss: 7.2886\n",
            "Epoch 22/100\n",
            "8/8 [==============================] - 0s 9ms/step - loss: 6.6421 - val_loss: 6.6278\n",
            "Epoch 23/100\n",
            "8/8 [==============================] - 0s 6ms/step - loss: 6.0250 - val_loss: 6.0397\n",
            "Epoch 24/100\n",
            "8/8 [==============================] - 0s 9ms/step - loss: 5.5206 - val_loss: 5.5899\n",
            "Epoch 25/100\n",
            "8/8 [==============================] - 0s 6ms/step - loss: 5.0763 - val_loss: 5.2465\n",
            "Epoch 26/100\n",
            "8/8 [==============================] - 0s 7ms/step - loss: 4.7410 - val_loss: 5.0268\n",
            "Epoch 27/100\n",
            "8/8 [==============================] - 0s 7ms/step - loss: 4.5033 - val_loss: 4.8419\n",
            "Epoch 28/100\n",
            "8/8 [==============================] - 0s 7ms/step - loss: 4.2955 - val_loss: 4.6739\n",
            "Epoch 29/100\n",
            "8/8 [==============================] - 0s 6ms/step - loss: 4.1335 - val_loss: 4.5439\n",
            "Epoch 30/100\n",
            "8/8 [==============================] - 0s 10ms/step - loss: 4.0349 - val_loss: 4.4563\n",
            "Epoch 31/100\n",
            "8/8 [==============================] - 0s 12ms/step - loss: 3.9545 - val_loss: 4.3729\n",
            "Epoch 32/100\n",
            "8/8 [==============================] - 0s 13ms/step - loss: 3.8914 - val_loss: 4.3271\n",
            "Epoch 33/100\n",
            "8/8 [==============================] - 0s 11ms/step - loss: 3.8650 - val_loss: 4.2846\n",
            "Epoch 34/100\n",
            "8/8 [==============================] - 0s 14ms/step - loss: 3.8391 - val_loss: 4.2503\n",
            "Epoch 35/100\n",
            "8/8 [==============================] - 0s 9ms/step - loss: 3.8275 - val_loss: 4.2290\n",
            "Epoch 36/100\n",
            "8/8 [==============================] - 0s 12ms/step - loss: 3.8256 - val_loss: 4.2446\n",
            "Epoch 37/100\n",
            "8/8 [==============================] - 0s 9ms/step - loss: 3.8167 - val_loss: 4.2089\n",
            "Epoch 38/100\n",
            "8/8 [==============================] - 0s 9ms/step - loss: 3.8079 - val_loss: 4.2006\n",
            "Epoch 39/100\n",
            "8/8 [==============================] - 0s 12ms/step - loss: 3.8040 - val_loss: 4.2056\n",
            "Epoch 40/100\n",
            "8/8 [==============================] - 0s 12ms/step - loss: 3.8041 - val_loss: 4.2086\n",
            "Epoch 41/100\n",
            "8/8 [==============================] - 0s 10ms/step - loss: 3.8044 - val_loss: 4.2028\n",
            "Epoch 42/100\n",
            "8/8 [==============================] - 0s 13ms/step - loss: 3.8038 - val_loss: 4.1909\n",
            "Epoch 43/100\n",
            "8/8 [==============================] - 0s 8ms/step - loss: 3.8024 - val_loss: 4.2018\n",
            "Epoch 44/100\n",
            "8/8 [==============================] - 0s 8ms/step - loss: 3.8027 - val_loss: 4.1964\n",
            "Epoch 45/100\n",
            "8/8 [==============================] - 0s 12ms/step - loss: 3.8029 - val_loss: 4.1921\n",
            "Epoch 46/100\n",
            "8/8 [==============================] - 0s 8ms/step - loss: 3.8045 - val_loss: 4.1717\n",
            "Epoch 47/100\n",
            "8/8 [==============================] - 0s 11ms/step - loss: 3.8063 - val_loss: 4.1949\n",
            "Epoch 48/100\n",
            "8/8 [==============================] - 0s 10ms/step - loss: 3.8047 - val_loss: 4.1878\n",
            "Epoch 49/100\n",
            "8/8 [==============================] - 0s 10ms/step - loss: 3.8035 - val_loss: 4.1937\n",
            "Epoch 50/100\n",
            "8/8 [==============================] - 0s 11ms/step - loss: 3.8043 - val_loss: 4.1815\n",
            "Epoch 51/100\n",
            "8/8 [==============================] - 0s 11ms/step - loss: 3.8045 - val_loss: 4.1996\n",
            "Epoch 52/100\n",
            "8/8 [==============================] - 0s 10ms/step - loss: 3.8034 - val_loss: 4.1914\n",
            "Epoch 53/100\n",
            "8/8 [==============================] - 0s 11ms/step - loss: 3.8048 - val_loss: 4.1768\n",
            "Epoch 54/100\n",
            "8/8 [==============================] - 0s 9ms/step - loss: 3.8038 - val_loss: 4.1956\n",
            "Epoch 55/100\n",
            "8/8 [==============================] - 0s 11ms/step - loss: 3.8034 - val_loss: 4.1825\n",
            "Epoch 56/100\n",
            "8/8 [==============================] - 0s 11ms/step - loss: 3.8031 - val_loss: 4.1909\n",
            "Epoch 57/100\n",
            "8/8 [==============================] - 0s 13ms/step - loss: 3.8033 - val_loss: 4.1833\n",
            "Epoch 58/100\n",
            "8/8 [==============================] - 0s 12ms/step - loss: 3.8028 - val_loss: 4.1969\n",
            "Epoch 59/100\n",
            "8/8 [==============================] - 0s 13ms/step - loss: 3.8044 - val_loss: 4.1989\n",
            "Epoch 60/100\n",
            "8/8 [==============================] - 0s 10ms/step - loss: 3.8055 - val_loss: 4.1834\n",
            "Epoch 61/100\n",
            "8/8 [==============================] - 0s 12ms/step - loss: 3.8053 - val_loss: 4.1786\n",
            "Epoch 62/100\n",
            "8/8 [==============================] - 0s 8ms/step - loss: 3.8016 - val_loss: 4.2087\n",
            "Epoch 63/100\n",
            "8/8 [==============================] - 0s 7ms/step - loss: 3.8060 - val_loss: 4.2066\n",
            "Epoch 64/100\n",
            "8/8 [==============================] - 0s 9ms/step - loss: 3.8078 - val_loss: 4.1818\n",
            "Epoch 65/100\n",
            "8/8 [==============================] - 0s 6ms/step - loss: 3.8043 - val_loss: 4.1870\n",
            "Epoch 66/100\n",
            "8/8 [==============================] - 0s 9ms/step - loss: 3.8049 - val_loss: 4.1893\n",
            "Epoch 67/100\n",
            "8/8 [==============================] - 0s 7ms/step - loss: 3.8023 - val_loss: 4.1870\n",
            "Epoch 68/100\n",
            "8/8 [==============================] - 0s 9ms/step - loss: 3.8068 - val_loss: 4.2037\n",
            "Epoch 69/100\n",
            "8/8 [==============================] - 0s 7ms/step - loss: 3.8024 - val_loss: 4.1839\n",
            "Epoch 70/100\n",
            "8/8 [==============================] - 0s 6ms/step - loss: 3.8041 - val_loss: 4.1772\n",
            "Epoch 71/100\n",
            "8/8 [==============================] - 0s 7ms/step - loss: 3.8059 - val_loss: 4.2033\n",
            "Epoch 72/100\n",
            "8/8 [==============================] - 0s 6ms/step - loss: 3.8042 - val_loss: 4.1880\n",
            "Epoch 73/100\n",
            "8/8 [==============================] - 0s 6ms/step - loss: 3.8020 - val_loss: 4.1912\n",
            "Epoch 74/100\n",
            "8/8 [==============================] - 0s 7ms/step - loss: 3.8057 - val_loss: 4.2015\n",
            "Epoch 75/100\n",
            "8/8 [==============================] - 0s 6ms/step - loss: 3.8034 - val_loss: 4.1965\n",
            "Epoch 76/100\n",
            "8/8 [==============================] - 0s 9ms/step - loss: 3.8045 - val_loss: 4.1683\n",
            "Epoch 77/100\n",
            "8/8 [==============================] - 0s 9ms/step - loss: 3.8037 - val_loss: 4.1765\n",
            "Epoch 78/100\n",
            "8/8 [==============================] - 0s 6ms/step - loss: 3.8028 - val_loss: 4.1862\n",
            "Epoch 79/100\n",
            "8/8 [==============================] - 0s 9ms/step - loss: 3.8017 - val_loss: 4.2030\n",
            "Epoch 80/100\n",
            "8/8 [==============================] - 0s 8ms/step - loss: 3.8038 - val_loss: 4.2026\n",
            "Epoch 81/100\n",
            "8/8 [==============================] - 0s 9ms/step - loss: 3.8039 - val_loss: 4.1877\n",
            "Epoch 82/100\n",
            "8/8 [==============================] - 0s 6ms/step - loss: 3.8025 - val_loss: 4.1797\n",
            "Epoch 83/100\n",
            "8/8 [==============================] - 0s 9ms/step - loss: 3.8048 - val_loss: 4.1908\n",
            "Epoch 84/100\n",
            "8/8 [==============================] - 0s 6ms/step - loss: 3.8038 - val_loss: 4.1972\n",
            "Epoch 85/100\n",
            "8/8 [==============================] - 0s 10ms/step - loss: 3.8046 - val_loss: 4.1929\n",
            "Epoch 86/100\n",
            "8/8 [==============================] - 0s 9ms/step - loss: 3.8032 - val_loss: 4.1975\n",
            "Epoch 87/100\n",
            "8/8 [==============================] - 0s 6ms/step - loss: 3.8040 - val_loss: 4.1878\n",
            "Epoch 88/100\n",
            "8/8 [==============================] - 0s 7ms/step - loss: 3.8065 - val_loss: 4.2072\n",
            "Epoch 89/100\n",
            "8/8 [==============================] - 0s 7ms/step - loss: 3.8110 - val_loss: 4.1810\n",
            "Epoch 90/100\n",
            "8/8 [==============================] - 0s 9ms/step - loss: 3.8023 - val_loss: 4.1991\n",
            "Epoch 91/100\n",
            "8/8 [==============================] - 0s 7ms/step - loss: 3.8025 - val_loss: 4.1944\n",
            "Epoch 92/100\n",
            "8/8 [==============================] - 0s 15ms/step - loss: 3.8017 - val_loss: 4.1855\n",
            "Epoch 93/100\n",
            "8/8 [==============================] - 0s 13ms/step - loss: 3.8039 - val_loss: 4.1735\n",
            "Epoch 94/100\n",
            "8/8 [==============================] - 0s 16ms/step - loss: 3.8055 - val_loss: 4.1952\n",
            "Epoch 95/100\n",
            "8/8 [==============================] - 0s 14ms/step - loss: 3.8045 - val_loss: 4.1865\n",
            "Epoch 96/100\n",
            "8/8 [==============================] - 0s 11ms/step - loss: 3.8065 - val_loss: 4.1861\n",
            "Epoch 97/100\n",
            "8/8 [==============================] - 0s 19ms/step - loss: 3.8030 - val_loss: 4.1952\n",
            "Epoch 98/100\n",
            "8/8 [==============================] - 0s 15ms/step - loss: 3.8120 - val_loss: 4.1624\n",
            "Epoch 99/100\n",
            "8/8 [==============================] - 0s 24ms/step - loss: 3.8045 - val_loss: 4.1785\n",
            "Epoch 100/100\n",
            "8/8 [==============================] - 0s 35ms/step - loss: 3.8057 - val_loss: 4.2128\n",
            "CPU times: user 6.84 s, sys: 260 ms, total: 7.1 s\n",
            "Wall time: 8.56 s\n"
          ]
        }
      ],
      "source": [
        "%%time\n",
        "# 100 epoch에 대한 훈련을 실행하고 진행 과정 기록\n",
        "history = horsepower_model.fit(\n",
        "    train_X['Horsepower'],\n",
        "    train_y,\n",
        "    epochs=100,  \n",
        "    validation_split = 0.2)"
      ]
    },
    {
      "cell_type": "code",
      "execution_count": null,
      "metadata": {
        "id": "9E54UoZunqhc",
        "colab": {
          "base_uri": "https://localhost:8080/",
          "height": 283
        },
        "outputId": "fd39fd0e-ecd5-461a-e421-99afb2553af7"
      },
      "outputs": [
        {
          "output_type": "display_data",
          "data": {
            "text/plain": [
              "<Figure size 432x288 with 1 Axes>"
            ],
            "image/png": "[encoded data removed]"
          },
          "metadata": {
            "needs_background": "light"
          }
        }
      ],
      "source": [
        "# 훈련과정을 시각화하기 위한 함수 정의\n",
        "def plot_loss(history):\n",
        "  plt.plot(history.history['loss'], label='loss')\n",
        "  plt.plot(history.history['val_loss'], label='val_loss')\n",
        "  plt.ylim([0, 10])\n",
        "  plt.xlabel('Epoch')\n",
        "  plt.ylabel('Error [MPG]')\n",
        "  plt.legend()\n",
        "  plt.grid(True)\n",
        "\n",
        "# 훈련과정 시각화\n",
        "plot_loss(history)  "
      ]
    },
    {
      "cell_type": "markdown",
      "source": [
        "## (5) Evaluation"
      ],
      "metadata": {
        "id": "znQAZ92WPagY"
      }
    },
    {
      "cell_type": "code",
      "execution_count": null,
      "metadata": {
        "id": "xDS2JEtOn9Jn",
        "colab": {
          "base_uri": "https://localhost:8080/",
          "height": 315
        },
        "outputId": "32bde4be-d23d-4b38-9e65-898e516b49a9"
      },
      "outputs": [
        {
          "output_type": "stream",
          "name": "stdout",
          "text": [
            "3/3 [==============================] - 0s 4ms/step - loss: 3.6504\n",
            "8/8 [==============================] - 0s 2ms/step\n"
          ]
        },
        {
          "output_type": "display_data",
          "data": {
            "text/plain": [
              "<Figure size 432x288 with 1 Axes>"
            ],
            "image/png": "[encoded data removed]"
          },
          "metadata": {
            "needs_background": "light"
          }
        }
      ],
      "source": [
        "# 테스트 결과 수집\n",
        "test_results = {}\n",
        "test_results['horsepower_model'] = horsepower_model.evaluate( test_X['Horsepower'], test_y)\n",
        "\n",
        "# 테스트 결과 시각화\n",
        "x = tf.linspace(0.0, 250, 251)\n",
        "y = horsepower_model.predict(x) \n",
        "plot_horsepower(x, y)"
      ]
    },
    {
      "cell_type": "markdown",
      "metadata": {
        "id": "Yk2RmlqPoM9u"
      },
      "source": [
        "# Multiple linear regression (다중 선형 회귀)"
      ]
    },
    {
      "cell_type": "markdown",
      "source": [
        "## (3) Build the model"
      ],
      "metadata": {
        "id": "EiiaZ8V5MwXY"
      }
    },
    {
      "cell_type": "code",
      "execution_count": null,
      "metadata": {
        "id": "ssnVcKg7oMe6",
        "colab": {
          "base_uri": "https://localhost:8080/"
        },
        "outputId": "0a11e521-548d-4584-8d3c-0af808d09b75"
      },
      "outputs": [
        {
          "output_type": "stream",
          "name": "stdout",
          "text": [
            "Model: \"sequential_1\"\n",
            "_________________________________________________________________\n",
            " Layer (type)                Output Shape              Param #   \n",
            "=================================================================\n",
            " normalization (Normalizatio  (None, 9)                19        \n",
            " n)                                                              \n",
            "                                                                 \n",
            " dense_1 (Dense)             (None, 1)                 10        \n",
            "                                                                 \n",
            "=================================================================\n",
            "Total params: 29\n",
            "Trainable params: 10\n",
            "Non-trainable params: 19\n",
            "_________________________________________________________________\n"
          ]
        }
      ],
      "source": [
        "# Multiple linear regression 모델 생성\n",
        "linear_model = tf.keras.Sequential([\n",
        "    input_layer,\n",
        "    layers.Dense(units=1)\n",
        "])\n",
        " \n",
        "# 생성한 Linear regression 모델의 구조 확인 \n",
        "linear_model.summary()\n",
        "\n",
        "# 최적화 방법 정의\n",
        "# mean_absolute_error는 절댓값 에러임\n",
        "linear_model.compile(\n",
        "    optimizer=tf.keras.optimizers.Adam(learning_rate=0.1),\n",
        "    loss='mean_absolute_error')"
      ]
    },
    {
      "cell_type": "markdown",
      "source": [
        "## (4) Training"
      ],
      "metadata": {
        "id": "4qfUUcUAgMv8"
      }
    },
    {
      "cell_type": "code",
      "execution_count": null,
      "metadata": {
        "id": "EZoOYORvoTSe",
        "colab": {
          "base_uri": "https://localhost:8080/"
        },
        "outputId": "9be21527-539d-45b7-c990-ac4fe544d33d"
      },
      "outputs": [
        {
          "output_type": "stream",
          "name": "stdout",
          "text": [
            "Epoch 1/100\n",
            "8/8 [==============================] - 1s 38ms/step - loss: 22.9287 - val_loss: 22.9272\n",
            "Epoch 2/100\n",
            "8/8 [==============================] - 0s 17ms/step - loss: 22.0627 - val_loss: 22.2201\n",
            "Epoch 3/100\n",
            "8/8 [==============================] - 0s 17ms/step - loss: 21.2456 - val_loss: 21.5054\n",
            "Epoch 4/100\n",
            "8/8 [==============================] - 0s 13ms/step - loss: 20.4149 - val_loss: 20.7645\n",
            "Epoch 5/100\n",
            "8/8 [==============================] - 0s 15ms/step - loss: 19.6286 - val_loss: 20.0745\n",
            "Epoch 6/100\n",
            "8/8 [==============================] - 0s 13ms/step - loss: 18.7858 - val_loss: 19.3435\n",
            "Epoch 7/100\n",
            "8/8 [==============================] - 0s 11ms/step - loss: 17.9653 - val_loss: 18.6256\n",
            "Epoch 8/100\n",
            "8/8 [==============================] - 0s 11ms/step - loss: 17.1492 - val_loss: 17.8887\n",
            "Epoch 9/100\n",
            "8/8 [==============================] - 0s 28ms/step - loss: 16.3438 - val_loss: 17.1868\n",
            "Epoch 10/100\n",
            "8/8 [==============================] - 0s 15ms/step - loss: 15.5097 - val_loss: 16.4623\n",
            "Epoch 11/100\n",
            "8/8 [==============================] - 0s 8ms/step - loss: 14.7084 - val_loss: 15.7436\n",
            "Epoch 12/100\n",
            "8/8 [==============================] - 0s 20ms/step - loss: 13.9123 - val_loss: 15.0879\n",
            "Epoch 13/100\n",
            "8/8 [==============================] - 0s 14ms/step - loss: 13.1066 - val_loss: 14.2082\n",
            "Epoch 14/100\n",
            "8/8 [==============================] - 0s 11ms/step - loss: 12.3200 - val_loss: 13.5680\n",
            "Epoch 15/100\n",
            "8/8 [==============================] - 0s 9ms/step - loss: 11.4801 - val_loss: 12.8596\n",
            "Epoch 16/100\n",
            "8/8 [==============================] - 0s 25ms/step - loss: 10.6943 - val_loss: 12.0779\n",
            "Epoch 17/100\n",
            "8/8 [==============================] - 0s 16ms/step - loss: 9.8973 - val_loss: 11.3803\n",
            "Epoch 18/100\n",
            "8/8 [==============================] - 0s 8ms/step - loss: 9.1514 - val_loss: 10.6101\n",
            "Epoch 19/100\n",
            "8/8 [==============================] - 0s 11ms/step - loss: 8.3659 - val_loss: 9.8971\n",
            "Epoch 20/100\n",
            "8/8 [==============================] - 0s 16ms/step - loss: 7.6474 - val_loss: 9.0836\n",
            "Epoch 21/100\n",
            "8/8 [==============================] - 0s 12ms/step - loss: 6.9672 - val_loss: 8.4510\n",
            "Epoch 22/100\n",
            "8/8 [==============================] - 0s 11ms/step - loss: 6.3818 - val_loss: 7.7485\n",
            "Epoch 23/100\n",
            "8/8 [==============================] - 0s 9ms/step - loss: 5.7779 - val_loss: 7.1299\n",
            "Epoch 24/100\n",
            "8/8 [==============================] - 0s 9ms/step - loss: 5.3115 - val_loss: 6.6574\n",
            "Epoch 25/100\n",
            "8/8 [==============================] - 0s 11ms/step - loss: 4.8157 - val_loss: 5.9424\n",
            "Epoch 26/100\n",
            "8/8 [==============================] - 0s 11ms/step - loss: 4.3974 - val_loss: 5.0997\n",
            "Epoch 27/100\n",
            "8/8 [==============================] - 0s 11ms/step - loss: 3.9271 - val_loss: 4.5554\n",
            "Epoch 28/100\n",
            "8/8 [==============================] - 0s 8ms/step - loss: 3.5163 - val_loss: 4.0473\n",
            "Epoch 29/100\n",
            "8/8 [==============================] - 0s 13ms/step - loss: 3.1640 - val_loss: 3.3905\n",
            "Epoch 30/100\n",
            "8/8 [==============================] - 0s 11ms/step - loss: 2.9810 - val_loss: 3.0023\n",
            "Epoch 31/100\n",
            "8/8 [==============================] - 0s 12ms/step - loss: 2.7625 - val_loss: 2.9760\n",
            "Epoch 32/100\n",
            "8/8 [==============================] - 0s 12ms/step - loss: 2.6877 - val_loss: 2.8158\n",
            "Epoch 33/100\n",
            "8/8 [==============================] - 0s 16ms/step - loss: 2.6597 - val_loss: 2.6885\n",
            "Epoch 34/100\n",
            "8/8 [==============================] - 0s 11ms/step - loss: 2.5751 - val_loss: 2.7509\n",
            "Epoch 35/100\n",
            "8/8 [==============================] - 0s 23ms/step - loss: 2.5380 - val_loss: 2.6159\n",
            "Epoch 36/100\n",
            "8/8 [==============================] - 0s 24ms/step - loss: 2.5301 - val_loss: 2.6537\n",
            "Epoch 37/100\n",
            "8/8 [==============================] - 0s 27ms/step - loss: 2.5458 - val_loss: 2.5513\n",
            "Epoch 38/100\n",
            "8/8 [==============================] - 0s 17ms/step - loss: 2.4932 - val_loss: 2.5636\n",
            "Epoch 39/100\n",
            "8/8 [==============================] - 0s 29ms/step - loss: 2.5006 - val_loss: 2.5081\n",
            "Epoch 40/100\n",
            "8/8 [==============================] - 0s 14ms/step - loss: 2.5086 - val_loss: 2.4898\n",
            "Epoch 41/100\n",
            "8/8 [==============================] - 0s 16ms/step - loss: 2.4864 - val_loss: 2.4968\n",
            "Epoch 42/100\n",
            "8/8 [==============================] - 0s 20ms/step - loss: 2.4743 - val_loss: 2.5182\n",
            "Epoch 43/100\n",
            "8/8 [==============================] - 0s 19ms/step - loss: 2.4755 - val_loss: 2.4826\n",
            "Epoch 44/100\n",
            "8/8 [==============================] - 0s 14ms/step - loss: 2.4868 - val_loss: 2.5045\n",
            "Epoch 45/100\n",
            "8/8 [==============================] - 0s 6ms/step - loss: 2.4702 - val_loss: 2.4715\n",
            "Epoch 46/100\n",
            "8/8 [==============================] - 0s 6ms/step - loss: 2.4770 - val_loss: 2.5132\n",
            "Epoch 47/100\n",
            "8/8 [==============================] - 0s 6ms/step - loss: 2.4819 - val_loss: 2.4797\n",
            "Epoch 48/100\n",
            "8/8 [==============================] - 0s 7ms/step - loss: 2.5189 - val_loss: 2.4949\n",
            "Epoch 49/100\n",
            "8/8 [==============================] - 0s 7ms/step - loss: 2.4881 - val_loss: 2.4698\n",
            "Epoch 50/100\n",
            "8/8 [==============================] - 0s 7ms/step - loss: 2.5374 - val_loss: 2.4792\n",
            "Epoch 51/100\n",
            "8/8 [==============================] - 0s 6ms/step - loss: 2.5119 - val_loss: 2.4919\n",
            "Epoch 52/100\n",
            "8/8 [==============================] - 0s 6ms/step - loss: 2.4830 - val_loss: 2.4749\n",
            "Epoch 53/100\n",
            "8/8 [==============================] - 0s 7ms/step - loss: 2.4755 - val_loss: 2.5196\n",
            "Epoch 54/100\n",
            "8/8 [==============================] - 0s 7ms/step - loss: 2.4778 - val_loss: 2.4715\n",
            "Epoch 55/100\n",
            "8/8 [==============================] - 0s 6ms/step - loss: 2.4797 - val_loss: 2.4751\n",
            "Epoch 56/100\n",
            "8/8 [==============================] - 0s 7ms/step - loss: 2.4682 - val_loss: 2.4589\n",
            "Epoch 57/100\n",
            "8/8 [==============================] - 0s 6ms/step - loss: 2.4748 - val_loss: 2.4702\n",
            "Epoch 58/100\n",
            "8/8 [==============================] - 0s 7ms/step - loss: 2.5153 - val_loss: 2.4530\n",
            "Epoch 59/100\n",
            "8/8 [==============================] - 0s 6ms/step - loss: 2.4876 - val_loss: 2.4885\n",
            "Epoch 60/100\n",
            "8/8 [==============================] - 0s 6ms/step - loss: 2.4870 - val_loss: 2.4563\n",
            "Epoch 61/100\n",
            "8/8 [==============================] - 0s 6ms/step - loss: 2.4767 - val_loss: 2.4872\n",
            "Epoch 62/100\n",
            "8/8 [==============================] - 0s 6ms/step - loss: 2.4734 - val_loss: 2.4929\n",
            "Epoch 63/100\n",
            "8/8 [==============================] - 0s 6ms/step - loss: 2.4718 - val_loss: 2.4900\n",
            "Epoch 64/100\n",
            "8/8 [==============================] - 0s 6ms/step - loss: 2.4883 - val_loss: 2.4851\n",
            "Epoch 65/100\n",
            "8/8 [==============================] - 0s 7ms/step - loss: 2.4853 - val_loss: 2.4866\n",
            "Epoch 66/100\n",
            "8/8 [==============================] - 0s 8ms/step - loss: 2.4819 - val_loss: 2.4851\n",
            "Epoch 67/100\n",
            "8/8 [==============================] - 0s 7ms/step - loss: 2.4912 - val_loss: 2.4765\n",
            "Epoch 68/100\n",
            "8/8 [==============================] - 0s 6ms/step - loss: 2.4958 - val_loss: 2.4660\n",
            "Epoch 69/100\n",
            "8/8 [==============================] - 0s 8ms/step - loss: 2.5427 - val_loss: 2.4703\n",
            "Epoch 70/100\n",
            "8/8 [==============================] - 0s 6ms/step - loss: 2.5062 - val_loss: 2.5047\n",
            "Epoch 71/100\n",
            "8/8 [==============================] - 0s 6ms/step - loss: 2.4706 - val_loss: 2.4706\n",
            "Epoch 72/100\n",
            "8/8 [==============================] - 0s 6ms/step - loss: 2.4777 - val_loss: 2.5096\n",
            "Epoch 73/100\n",
            "8/8 [==============================] - 0s 6ms/step - loss: 2.4713 - val_loss: 2.4890\n",
            "Epoch 74/100\n",
            "8/8 [==============================] - 0s 6ms/step - loss: 2.4784 - val_loss: 2.5068\n",
            "Epoch 75/100\n",
            "8/8 [==============================] - 0s 6ms/step - loss: 2.4698 - val_loss: 2.4705\n",
            "Epoch 76/100\n",
            "8/8 [==============================] - 0s 7ms/step - loss: 2.4778 - val_loss: 2.4773\n",
            "Epoch 77/100\n",
            "8/8 [==============================] - 0s 7ms/step - loss: 2.4752 - val_loss: 2.4764\n",
            "Epoch 78/100\n",
            "8/8 [==============================] - 0s 7ms/step - loss: 2.4931 - val_loss: 2.4546\n",
            "Epoch 79/100\n",
            "8/8 [==============================] - 0s 7ms/step - loss: 2.5051 - val_loss: 2.4666\n",
            "Epoch 80/100\n",
            "8/8 [==============================] - 0s 7ms/step - loss: 2.5030 - val_loss: 2.4693\n",
            "Epoch 81/100\n",
            "8/8 [==============================] - 0s 7ms/step - loss: 2.4725 - val_loss: 2.4951\n",
            "Epoch 82/100\n",
            "8/8 [==============================] - 0s 7ms/step - loss: 2.4708 - val_loss: 2.4613\n",
            "Epoch 83/100\n",
            "8/8 [==============================] - 0s 9ms/step - loss: 2.4793 - val_loss: 2.4808\n",
            "Epoch 84/100\n",
            "8/8 [==============================] - 0s 6ms/step - loss: 2.4841 - val_loss: 2.4487\n",
            "Epoch 85/100\n",
            "8/8 [==============================] - 0s 7ms/step - loss: 2.5039 - val_loss: 2.4568\n",
            "Epoch 86/100\n",
            "8/8 [==============================] - 0s 9ms/step - loss: 2.4845 - val_loss: 2.4449\n",
            "Epoch 87/100\n",
            "8/8 [==============================] - 0s 7ms/step - loss: 2.4879 - val_loss: 2.4665\n",
            "Epoch 88/100\n",
            "8/8 [==============================] - 0s 6ms/step - loss: 2.4835 - val_loss: 2.4613\n",
            "Epoch 89/100\n",
            "8/8 [==============================] - 0s 6ms/step - loss: 2.4778 - val_loss: 2.4996\n",
            "Epoch 90/100\n",
            "8/8 [==============================] - 0s 6ms/step - loss: 2.4702 - val_loss: 2.4842\n",
            "Epoch 91/100\n",
            "8/8 [==============================] - 0s 7ms/step - loss: 2.4762 - val_loss: 2.4953\n",
            "Epoch 92/100\n",
            "8/8 [==============================] - 0s 7ms/step - loss: 2.4655 - val_loss: 2.4870\n",
            "Epoch 93/100\n",
            "8/8 [==============================] - 0s 6ms/step - loss: 2.4902 - val_loss: 2.4670\n",
            "Epoch 94/100\n",
            "8/8 [==============================] - 0s 7ms/step - loss: 2.4671 - val_loss: 2.4728\n",
            "Epoch 95/100\n",
            "8/8 [==============================] - 0s 6ms/step - loss: 2.4645 - val_loss: 2.4752\n",
            "Epoch 96/100\n",
            "8/8 [==============================] - 0s 6ms/step - loss: 2.4814 - val_loss: 2.4687\n",
            "Epoch 97/100\n",
            "8/8 [==============================] - 0s 6ms/step - loss: 2.4909 - val_loss: 2.4654\n",
            "Epoch 98/100\n",
            "8/8 [==============================] - 0s 6ms/step - loss: 2.4695 - val_loss: 2.4818\n",
            "Epoch 99/100\n",
            "8/8 [==============================] - 0s 6ms/step - loss: 2.4795 - val_loss: 2.4422\n",
            "Epoch 100/100\n",
            "8/8 [==============================] - 0s 8ms/step - loss: 2.4910 - val_loss: 2.4884\n",
            "CPU times: user 7.15 s, sys: 276 ms, total: 7.43 s\n",
            "Wall time: 11.5 s\n"
          ]
        }
      ],
      "source": [
        "%%time\n",
        "# 100 epoch에 대한 훈련을 실행하고 진행 과정 기록\n",
        "history = linear_model.fit(train_X, train_y, epochs=100, validation_split = 0.2)"
      ]
    },
    {
      "cell_type": "code",
      "execution_count": null,
      "metadata": {
        "id": "4sWO3W0koYgu",
        "colab": {
          "base_uri": "https://localhost:8080/",
          "height": 283
        },
        "outputId": "0e1422ab-4d5b-4368-e533-21e526d0d0e7"
      },
      "outputs": [
        {
          "output_type": "display_data",
          "data": {
            "text/plain": [
              "<Figure size 432x288 with 1 Axes>"
            ],
            "image/png": "[encoded data removed]"
          },
          "metadata": {
            "needs_background": "light"
          }
        }
      ],
      "source": [
        "# 훈련과정 시각화\n",
        "plot_loss(history)  "
      ]
    },
    {
      "cell_type": "markdown",
      "source": [
        "## (5) Evaluation"
      ],
      "metadata": {
        "id": "1xaAdhIDOo3s"
      }
    },
    {
      "cell_type": "code",
      "execution_count": null,
      "metadata": {
        "id": "jNC3D1DGsGgK",
        "colab": {
          "base_uri": "https://localhost:8080/",
          "height": 338
        },
        "outputId": "90bdffb1-bddb-4607-88e9-190cc52a46d7"
      },
      "outputs": [
        {
          "output_type": "stream",
          "name": "stdout",
          "text": [
            "3/3 [==============================] - 0s 5ms/step - loss: 2.5215\n",
            "{'horsepower_model': 3.6446900367736816, 'linear_model': 2.5214741230010986}\n",
            "3/3 [==============================] - 0s 6ms/step\n"
          ]
        },
        {
          "output_type": "display_data",
          "data": {
            "text/plain": [
              "<Figure size 432x288 with 1 Axes>"
            ],
            "image/png": "[encoded data removed]"
          },
          "metadata": {
            "needs_background": "light"
          }
        }
      ],
      "source": [
        "# Evaluation\n",
        "test_results['linear_model'] = linear_model.evaluate(test_X, test_y)\n",
        "\n",
        "# 기존 모델과의 비교\n",
        "pd.DataFrame(test_results, index=['Mean absolute error [MPG]']).T\n",
        "print(test_results)\n",
        "\n",
        "# 훈련된 모델로 예측하기\n",
        "test_predictions = linear_model.predict(test_X).flatten()\n",
        "\n",
        "# 예측 결과 시각화\n",
        "# 다중 선형회귀이므로 시각화를 x축은 실측값, y축은 계산한값으로 봄 -> 점이 가운데일 수록 좋은 성능\n",
        "a = plt.axes(aspect='equal')\n",
        "plt.scatter(test_y, test_predictions)\n",
        "plt.xlabel('True Values [MPG]')\n",
        "plt.ylabel('Predictions [MPG]')\n",
        "lims = [0, 50]\n",
        "plt.xlim(lims)\n",
        "plt.ylim(lims)\n",
        "_ = plt.plot(lims, lims)  "
      ]
    }
  ],
  "metadata": {
    "colab": {
      "toc_visible": true,
      "provenance": []
    },
    "kernelspec": {
      "display_name": "Python 3",
      "name": "python3"
    }
  },
  "nbformat": 4,
  "nbformat_minor": 0
}